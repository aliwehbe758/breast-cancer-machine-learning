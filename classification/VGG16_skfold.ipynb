{
 "cells": [
  {
   "cell_type": "code",
   "execution_count": null,
   "metadata": {
    "id": "4Ria-6r5U6qL"
   },
   "outputs": [],
   "source": [
    "# Global packages\n",
    "import os\n",
    "import random\n",
    "import numpy as np\n",
    "import matplotlib.pyplot as plt\n",
    "from collections import Counter\n",
    "%matplotlib inline\n",
    "\n",
    "from sklearn.model_selection import StratifiedKFold, train_test_split\n",
    "from sklearn.metrics import f1_score, precision_score, recall_score, roc_curve, roc_auc_score, auc\n",
    "from sklearn.utils import shuffle\n",
    "\n",
    "import torch\n",
    "import torch.nn as nn\n",
    "import torch.optim as optim\n",
    "from torchvision import datasets\n",
    "from torchvision import models, transforms\n",
    "from torch.utils.data import DataLoader, Subset\n",
    "from torch.utils.data.sampler import SubsetRandomSampler"
   ]
  },
  {
   "cell_type": "code",
   "execution_count": null,
   "metadata": {
    "colab": {
     "base_uri": "https://localhost:8080/"
    },
    "executionInfo": {
     "elapsed": 4339,
     "status": "ok",
     "timestamp": 1719184765317,
     "user": {
      "displayName": "Ali Wehbe",
      "userId": "05622343126361511658"
     },
     "user_tz": -180
    },
    "id": "zBgYr-Abxgro",
    "outputId": "98e28196-0e3a-4dc1-8224-104d9ffd673a"
   },
   "outputs": [
    {
     "name": "stdout",
     "output_type": "stream",
     "text": [
      "Drive already mounted at /content/drive; to attempt to forcibly remount, call drive.mount(\"/content/drive\", force_remount=True).\n"
     ]
    }
   ],
   "source": [
    "device = torch.device(\"cuda\" if torch.cuda.is_available() else \"cpu\")"
   ]
  },
  {
   "cell_type": "markdown",
   "metadata": {
    "id": "Sn63B0JzyrLX"
   },
   "source": [
    "# Loading in the Dataset"
   ]
  },
  {
   "cell_type": "code",
   "execution_count": null,
   "metadata": {
    "id": "aRZrpazox-9N"
   },
   "outputs": [],
   "source": [
    "normalize = transforms.Normalize(\n",
    "    mean=[0.3322, 0.0275, 0.1132],\n",
    "    std=[0.2215, 0.0965, 0.3152],\n",
    ")\n",
    "\n",
    "transform = transforms.Compose([\n",
    "        transforms.Resize((224,224)),\n",
    "        transforms.ToTensor(),\n",
    "        normalize,\n",
    "])\n",
    "\n",
    "# Load the dataset\n",
    "dataset = datasets.ImageFolder(\"../Dataset_BUSI_with_GT/\", transform=transform)\n",
    "\n",
    "# Get the labels from the dataset\n",
    "labels = np.array(dataset.targets)\n",
    "\n",
    "# Split the dataset into train and test sets while maintaining class proportions\n",
    "train_indices, test_indices = train_test_split(np.arange(len(dataset)), test_size=0.2, random_state=42, stratify=labels)\n",
    "\n",
    "# Create Subset datasets for train and test\n",
    "train_dataset = Subset(dataset, train_indices)\n",
    "test_dataset = Subset(dataset, test_indices)"
   ]
  },
  {
   "cell_type": "code",
   "execution_count": null,
   "metadata": {
    "id": "lGczg534y-kV"
   },
   "outputs": [],
   "source": [
    "# Making sure train and test indices don't overlap\n",
    "assert len(set(train_indices).intersection(test_indices)) == 0, \"Indices overlap between train and validation sets.\""
   ]
  },
  {
   "cell_type": "markdown",
   "metadata": {
    "id": "kSJU8QDC67HG"
   },
   "source": [
    "# Checking the distribution\n",
    "This is to make sure that the distributions are equal across the Original, Train, and Test datasets before training and evaluation."
   ]
  },
  {
   "cell_type": "code",
   "execution_count": null,
   "metadata": {
    "colab": {
     "base_uri": "https://localhost:8080/"
    },
    "executionInfo": {
     "elapsed": 3,
     "status": "ok",
     "timestamp": 1719184765318,
     "user": {
      "displayName": "Ali Wehbe",
      "userId": "05622343126361511658"
     },
     "user_tz": -180
    },
    "id": "t_DRYOHV6-bT",
    "outputId": "60215123-c735-4d80-ff9e-9f6c02e63ed3"
   },
   "outputs": [
    {
     "name": "stdout",
     "output_type": "stream",
     "text": [
      "Main Dataset Ratio:\n",
      "benign: 437 samples (56.03% of the main dataset)\n",
      "malignant: 210 samples (26.92% of the main dataset)\n",
      "normal: 133 samples (17.05% of the main dataset)\n",
      "========================================\n",
      "Train Dataset Ratio:\n",
      "Benign: 56.09% of the train dataset\n",
      "Malignant: 26.92% of the train dataset\n",
      "Normal: 16.99% of the train dataset\n",
      "========================================\n",
      "Test Dataset Ratio:\n",
      "Benign: 55.77% of the test dataset\n",
      "Malignant: 26.92% of the test dataset\n",
      "Normal: 17.31% of the test dataset\n"
     ]
    }
   ],
   "source": [
    "def print_distribution(header, distribution):\n",
    "    \"\"\"\n",
    "    Prints the class distribution of a dataset.\n",
    "\n",
    "    Args:\n",
    "        header (str): Header text to indicate the dataset type.\n",
    "        distribution (dict): A dictionary containing class labels and their ratios.\n",
    "\n",
    "    Returns:\n",
    "        None\n",
    "    \"\"\"\n",
    "    print(\"=\" * 40)\n",
    "    print(f\"{header} Dataset Ratio:\")\n",
    "    for label, ratio in distribution.items():\n",
    "        class_name = \"Benign\" if label == 0 else \"Malignant\" if label == 1 else \"Normal\"\n",
    "        print(f\"{class_name}: {ratio:.2%} of the {header.lower()} dataset\")\n",
    "\n",
    "# Count the occurrences of each label in the dataset\n",
    "label_counts = Counter(dataset.targets)\n",
    "total_samples = len(dataset)\n",
    "labels = np.array(dataset.targets)\n",
    "\n",
    "# Filter indices for the train and test sets\n",
    "train_indices = [idx for idx in range(len(dataset)) if idx in train_indices]\n",
    "test_indices = [idx for idx in range(len(dataset)) if idx in test_indices]\n",
    "\n",
    "def calculate_distribution(indices):\n",
    "    \"\"\"\n",
    "    Calculates the class distribution for a given set of indices.\n",
    "\n",
    "    Args:\n",
    "        indices (list): List of indices for a specific dataset subset.\n",
    "\n",
    "    Returns:\n",
    "        dict: A dictionary containing class labels and their ratios in the subset.\n",
    "    \"\"\"\n",
    "    total_samples = len(indices)\n",
    "    return {class_label: np.sum(labels[indices] == class_label) / total_samples for class_label in np.unique(labels)}\n",
    "\n",
    "# Calculate class distribution for the train and test sets\n",
    "train_class_distribution = calculate_distribution(train_indices)\n",
    "test_class_distribution = calculate_distribution(test_indices)\n",
    "\n",
    "# Print the class distribution of the main dataset\n",
    "print(\"Main Dataset Ratio:\")\n",
    "for label, count in label_counts.items():\n",
    "    label_str = dataset.classes[label]\n",
    "    ratio = count / total_samples\n",
    "    print(f\"{label_str}: {count} samples ({ratio:.2%} of the main dataset)\")\n",
    "\n",
    "# Print class distribution for train and test sets\n",
    "print_distribution(\"Train\", train_class_distribution)\n",
    "print_distribution(\"Test\", test_class_distribution)\n"
   ]
  },
  {
   "cell_type": "markdown",
   "metadata": {
    "id": "uTqPmJ057MWl"
   },
   "source": [
    "# Creating Optimizer\n",
    "Currently the optimizer is an Adam Optimizer"
   ]
  },
  {
   "cell_type": "code",
   "execution_count": null,
   "metadata": {
    "id": "WGdeOX4-7D_c"
   },
   "outputs": [],
   "source": [
    "def create_optimizer(model,  # Function that creates an optimizer for a given model and hyperparameters\n",
    "                    learning_rate_pretrained=0.00039710,  # Learning rate for pretrained layers\n",
    "                    learning_rate_new=0.00083336,  # Learning rate for new layers\n",
    "                    weight_decay=0.0073691,  # Weight decay (L2 regularization) coefficient\n",
    "                    beta1=0.9,  # Exponential decay rate for the first moment estimates (Adam parameter)\n",
    "                    beta2=0.999,  # Exponential decay rate for the second moment estimates (Adam parameter)\n",
    "                    eps=1e-8,  # Small constant to prevent division by zero (Adam parameter)\n",
    "                    amsgrad=False):  # Flag for using the AMSGrad variant of Adam optimizer12.0\n",
    "\n",
    "\n",
    "    # Separate model parameters into two groups: pretrained and new\n",
    "    params_pretrained = []  # Parameters from the pretrained layers\n",
    "    params_new = []         # Parameters from the new layers\n",
    "\n",
    "    for name, param in model.named_parameters():\n",
    "        if 'classifier.6' in name:\n",
    "            params_new.append(param)  # Parameters from the new layers\n",
    "        else:\n",
    "            params_pretrained.append(param)  # Parameters from the pretrained layers\n",
    "\n",
    "    '''Setting Loss Functions and Optimizers'''\n",
    "    # Create an Adam optimizer with different learning rates for the two parameter groups\n",
    "    optimizer = optim.Adam([\n",
    "        {'params': params_pretrained, 'lr': learning_rate_pretrained},  # Pretrained layer parameters with specific learning rate\n",
    "        {'params': params_new, 'lr': learning_rate_new},                # New layer parameters with different learning rate\n",
    "    ], weight_decay=weight_decay, betas=(beta1, beta2), eps=eps, amsgrad=amsgrad)\n",
    "\n",
    "    return optimizer"
   ]
  },
  {
   "cell_type": "markdown",
   "metadata": {
    "id": "8hVjQruo7RqV"
   },
   "source": [
    "# Train Function\n",
    "Training function for the VGG16 model."
   ]
  },
  {
   "cell_type": "code",
   "execution_count": null,
   "metadata": {
    "id": "N6IUFgBY7LU9"
   },
   "outputs": [],
   "source": [
    "def training(model, device, train_loader, criterion, optimizer):\n",
    "    \"\"\"\n",
    "    Training function for a neural network model.\n",
    "\n",
    "    Args:\n",
    "        model (nn.Module): The neural network model to be trained.\n",
    "        device (torch.device): The device (e.g., 'cuda' or 'cpu') to use for training.\n",
    "        train_loader (DataLoader): DataLoader containing training data.\n",
    "        criterion: The loss function.\n",
    "        optimizer: The optimization algorithm.\n",
    "\n",
    "    Returns:\n",
    "        float: The average training loss for one epoch.\n",
    "    \"\"\"\n",
    "\n",
    "    # Move the model to the specified device\n",
    "    model.to(device)\n",
    "    # Set the model in training mode\n",
    "    model.train()\n",
    "\n",
    "    # Initialize variables to keep track of training loss and total samples\n",
    "    train_loss, total_samples = 0.0, 0\n",
    "\n",
    "    # Loop through the batches in the training data\n",
    "    for images, labels in train_loader:\n",
    "        # Move data to the specified device\n",
    "        images, labels = images.to(device), labels.to(device)\n",
    "\n",
    "        # Zero the gradients of the optimizer\n",
    "        optimizer.zero_grad()\n",
    "\n",
    "        # Forward pass through the model\n",
    "        outputs = model(images)\n",
    "        # Calculate the loss\n",
    "        loss = criterion(outputs, labels)\n",
    "\n",
    "        # Backpropagation: Compute gradients\n",
    "        loss.backward()\n",
    "        # Update the model's parameters\n",
    "        optimizer.step()\n",
    "\n",
    "        # Accumulate the training loss for the current batch\n",
    "        train_loss += loss.item() * images.size(0)\n",
    "        # Count the total number of processed samples\n",
    "        total_samples += labels.size(0)\n",
    "\n",
    "    # Calculate the average training loss for the entire epoch\n",
    "    avg_train_loss = train_loss / total_samples\n",
    "\n",
    "    return avg_train_loss"
   ]
  },
  {
   "cell_type": "markdown",
   "metadata": {
    "id": "f-LVbfh07YRu"
   },
   "source": [
    "# Testing Function (Evaluation)\n",
    "Evaluation function for the VGG16 model."
   ]
  },
  {
   "cell_type": "code",
   "execution_count": null,
   "metadata": {
    "id": "1ztghsv67V-G"
   },
   "outputs": [],
   "source": [
    "def testing(model, device, val_loader, criterion):\n",
    "    \"\"\"\n",
    "    Evaluation function for a neural network model.\n",
    "\n",
    "    Args:\n",
    "        model (nn.Module): The neural network model to be evaluated.\n",
    "        device (torch.device): The device (e.g., 'cuda' or 'cpu') to use for evaluation.\n",
    "        val_loader (DataLoader): DataLoader containing validation data.\n",
    "        criterion: The loss function.\n",
    "\n",
    "    Returns:\n",
    "        float: The average validation loss.\n",
    "    \"\"\"\n",
    "\n",
    "    # Move the model to the specified device\n",
    "    model.to(device)\n",
    "    # Set the model in evaluation mode\n",
    "    model.eval()\n",
    "\n",
    "    # Initialize variables to keep track of validation loss and total samples\n",
    "    val_loss, total_samples = 0.0, 0\n",
    "\n",
    "    # Disable gradient calculation during evaluation\n",
    "    with torch.no_grad():\n",
    "        # Loop through the batches in the validation data\n",
    "        for images, labels in val_loader:\n",
    "            # Move data to the specified device\n",
    "            images, labels = images.to(device), labels.to(device)\n",
    "            # Forward pass through the model\n",
    "            outputs = model(images)\n",
    "            # Calculate the loss\n",
    "            loss = criterion(outputs, labels)\n",
    "\n",
    "            # Accumulate the validation loss for the current batch\n",
    "            val_loss += loss.item() * labels.size(0)\n",
    "            # Count the total number of processed samples\n",
    "            total_samples += labels.size(0)\n",
    "\n",
    "    # Calculate the average validation loss\n",
    "    avg_val_loss = val_loss / total_samples\n",
    "\n",
    "    return avg_val_loss"
   ]
  },
  {
   "cell_type": "markdown",
   "metadata": {
    "id": "lsLqhzMN7cpM"
   },
   "source": [
    "# Creating Train and Validation Loaders\n",
    "Creates data loaders for training and validation using given indices."
   ]
  },
  {
   "cell_type": "code",
   "execution_count": null,
   "metadata": {
    "id": "HzMAHDAb7eX_"
   },
   "outputs": [],
   "source": [
    "def create_train_val_loader(train_dataset, train_idx, val_idx, batch_size):\n",
    "    \"\"\"\n",
    "    Creates data loaders for training and validation using given indices.\n",
    "\n",
    "    Args:\n",
    "        train_dataset (Dataset): The training dataset.\n",
    "        train_idx (list): List of indices for the training set.\n",
    "        val_idx (list): List of indices for the validation set.\n",
    "        batch_size (int): Batch size for the data loaders.\n",
    "\n",
    "    Returns:\n",
    "        train_loader (DataLoader): DataLoader for the training data.\n",
    "        val_loader (DataLoader): DataLoader for the validation data.\n",
    "    \"\"\"\n",
    "\n",
    "    # Create subset samplers for training and validation indices\n",
    "    train_subsampler = torch.utils.data.SubsetRandomSampler(train_idx)\n",
    "    val_subsampler = torch.utils.data.SubsetRandomSampler(val_idx)\n",
    "\n",
    "    # Check for overlapping indices between train and validation sets\n",
    "    assert len(set(train_idx).intersection(val_idx)) == 0, \"Indices overlap between train and validation sets.\"\n",
    "\n",
    "    # Define data loaders for training and validation data in this fold\n",
    "    train_loader = torch.utils.data.DataLoader(\n",
    "        train_dataset,\n",
    "        batch_size=batch_size,\n",
    "        sampler=train_subsampler,\n",
    "        shuffle=False\n",
    "    )\n",
    "\n",
    "    val_loader = torch.utils.data.DataLoader(\n",
    "        train_dataset,\n",
    "        batch_size=batch_size,\n",
    "        sampler=val_subsampler\n",
    "    )\n",
    "\n",
    "    return train_loader, val_loader"
   ]
  },
  {
   "cell_type": "markdown",
   "metadata": {
    "id": "Yc-IRG3z7itG"
   },
   "source": [
    "# Setting Parameters"
   ]
  },
  {
   "cell_type": "code",
   "execution_count": null,
   "metadata": {
    "id": "Ix6StDPu7jJJ"
   },
   "outputs": [],
   "source": [
    "'''Setting training parameters'''\n",
    "num_frozen_layers = 5\n",
    "num_epochs = 20 # epochs\n",
    "batch_size = 32 # batch size\n",
    "k=5 # fold number\n",
    "\n",
    "'''Setting cross-validation parameters'''\n",
    "fold_results={'train_loss': [],\n",
    "              'val_loss': []} # dictionary to memorize all the scores\n",
    "\n",
    "skfold = StratifiedKFold(n_splits=k, shuffle=True, random_state=42) # sklearn library\n",
    "\n",
    "'''Setting Loss Function'''\n",
    "criterion = nn.CrossEntropyLoss() # Cross Entropy Loss for multi-class classification"
   ]
  },
  {
   "cell_type": "markdown",
   "metadata": {
    "id": "LW3bVuAl7mB1"
   },
   "source": [
    "# Checking distributions of each fold\n",
    "Validates the class distribution and indices of a cross-validation fold."
   ]
  },
  {
   "cell_type": "code",
   "execution_count": null,
   "metadata": {
    "id": "1OBgN0FZ7ksq"
   },
   "outputs": [],
   "source": [
    "def check_distribution(k, fold, train_indices, train_idx, val_idx):\n",
    "    \"\"\"\n",
    "    Validates the class distribution and indices of a cross-validation fold.\n",
    "\n",
    "    Args:\n",
    "        k (int): Total number of folds in cross-validation.\n",
    "        fold (int): Current fold number.\n",
    "        train_indices (list): List of indices for the entire dataset.\n",
    "        train_idx (list): List of indices for the training set in the current fold.\n",
    "        val_idx (list): List of indices for the validation set in the current fold.\n",
    "\n",
    "    Returns:\n",
    "        None\n",
    "    \"\"\"\n",
    "\n",
    "    # Calculate class distribution for training and validation sets\n",
    "    train_class_distribution = {class_label: np.sum(labels[train_indices][train_idx] == class_label) for class_label in np.unique(labels)}\n",
    "    val_class_distribution = {class_label: np.sum(labels[train_indices][val_idx] == class_label) for class_label in np.unique(labels)}\n",
    "\n",
    "    # Calculate class ratios for training and validation sets\n",
    "    total_train_samples = len(train_idx)\n",
    "    total_val_samples = len(val_idx)\n",
    "    train_class_ratios = {class_label: count / total_train_samples for class_label, count in train_class_distribution.items()}\n",
    "    val_class_ratios = {class_label: count / total_val_samples for class_label, count in val_class_distribution.items()}\n",
    "\n",
    "    # Check dataset size and indices consistency\n",
    "    total_samples = len(train_indices)\n",
    "    train_samples = len(train_idx)\n",
    "    val_samples = len(val_idx)\n",
    "    assert total_samples == train_samples + val_samples, \"Train and validation set sizes do not add up.\"\n",
    "\n",
    "    # Check for index uniqueness and non-overlapping\n",
    "    assert len(set(train_idx).intersection(val_idx)) == 0, \"Indices overlap between train and validation sets.\"\n",
    "\n",
    "    print(\"=\" * 40)\n",
    "    print(f\"Fold {fold + 1}/{k}\")\n",
    "\n",
    "    # Print class ratios for training set\n",
    "    for train_label, train_ratio in train_class_ratios.items():\n",
    "        class_name = \"Benign\" if train_label == 0 else \"Malignant\" if train_label == 1 else \"Normal\"\n",
    "        print(f\"{class_name}: {train_ratio:.2%} of the CV-TRAIN dataset\")\n",
    "\n",
    "    # Print class ratios for validation set\n",
    "    for val_label, val_ratio in val_class_ratios.items():\n",
    "        class_name = \"Benign\" if val_label == 0 else \"Malignant\" if val_label == 1 else \"Normal\"\n",
    "        print(f\"{class_name}: {val_ratio:.2%} of the CV-VALID dataset\")\n",
    "\n",
    "    print(\"=\" * 40)"
   ]
  },
  {
   "cell_type": "markdown",
   "metadata": {
    "id": "WU2T2bx07q1d"
   },
   "source": [
    "# Running the Model"
   ]
  },
  {
   "cell_type": "code",
   "execution_count": null,
   "metadata": {
    "colab": {
     "base_uri": "https://localhost:8080/"
    },
    "executionInfo": {
     "elapsed": 1185487,
     "status": "ok",
     "timestamp": 1719185966245,
     "user": {
      "displayName": "Ali Wehbe",
      "userId": "05622343126361511658"
     },
     "user_tz": -180
    },
    "id": "ZzykelZN7r0-",
    "outputId": "171200a6-9b68-4ddd-988a-c8297b1ec182"
   },
   "outputs": [
    {
     "name": "stdout",
     "output_type": "stream",
     "text": [
      "========================================\n",
      "Fold 1/5\n",
      "Benign: 56.11% of the CV-TRAIN dataset\n",
      "Malignant: 26.85% of the CV-TRAIN dataset\n",
      "Normal: 17.03% of the CV-TRAIN dataset\n",
      "Benign: 56.00% of the CV-VALID dataset\n",
      "Malignant: 27.20% of the CV-VALID dataset\n",
      "Normal: 16.80% of the CV-VALID dataset\n",
      "========================================\n",
      "Epoch:1/20 AVG Training Loss:1.187064 AVG Val Loss:0.946351\n",
      "Epoch:2/20 AVG Training Loss:1.012505 AVG Val Loss:0.947142\n",
      "Epoch:3/20 AVG Training Loss:0.983802 AVG Val Loss:1.050103\n",
      "Epoch:4/20 AVG Training Loss:1.024068 AVG Val Loss:1.010061\n",
      "Epoch:5/20 AVG Training Loss:1.011908 AVG Val Loss:1.015647\n",
      "Epoch:6/20 AVG Training Loss:0.991505 AVG Val Loss:0.956817\n",
      "Epoch:7/20 AVG Training Loss:0.972509 AVG Val Loss:0.908933\n",
      "Epoch:8/20 AVG Training Loss:0.956512 AVG Val Loss:0.876409\n",
      "Epoch:9/20 AVG Training Loss:0.910816 AVG Val Loss:0.974951\n",
      "Epoch:10/20 AVG Training Loss:0.994481 AVG Val Loss:0.958465\n",
      "Epoch:11/20 AVG Training Loss:0.986356 AVG Val Loss:0.966658\n",
      "Epoch:12/20 AVG Training Loss:0.990838 AVG Val Loss:0.946364\n",
      "Epoch:13/20 AVG Training Loss:0.995883 AVG Val Loss:0.960555\n",
      "Epoch:14/20 AVG Training Loss:0.985231 AVG Val Loss:0.974825\n",
      "Epoch:15/20 AVG Training Loss:1.006054 AVG Val Loss:0.965203\n",
      "Epoch:16/20 AVG Training Loss:0.983517 AVG Val Loss:0.946432\n",
      "Epoch:17/20 AVG Training Loss:0.909842 AVG Val Loss:0.871944\n",
      "Epoch:18/20 AVG Training Loss:0.929021 AVG Val Loss:0.831583\n",
      "Epoch:19/20 AVG Training Loss:0.823274 AVG Val Loss:0.909844\n",
      "Epoch:20/20 AVG Training Loss:0.785410 AVG Val Loss:0.720989\n",
      "========================================\n",
      "Fold 2/5\n",
      "Benign: 56.11% of the CV-TRAIN dataset\n",
      "Malignant: 26.85% of the CV-TRAIN dataset\n",
      "Normal: 17.03% of the CV-TRAIN dataset\n",
      "Benign: 56.00% of the CV-VALID dataset\n",
      "Malignant: 27.20% of the CV-VALID dataset\n",
      "Normal: 16.80% of the CV-VALID dataset\n",
      "========================================\n",
      "Epoch:1/20 AVG Training Loss:1.252104 AVG Val Loss:0.991010\n",
      "Epoch:2/20 AVG Training Loss:0.998166 AVG Val Loss:0.982720\n",
      "Epoch:3/20 AVG Training Loss:0.984199 AVG Val Loss:0.940177\n",
      "Epoch:4/20 AVG Training Loss:0.972193 AVG Val Loss:0.924993\n",
      "Epoch:5/20 AVG Training Loss:1.014669 AVG Val Loss:0.984490\n",
      "Epoch:6/20 AVG Training Loss:1.000695 AVG Val Loss:1.026385\n",
      "Epoch:7/20 AVG Training Loss:1.017119 AVG Val Loss:0.974296\n",
      "Epoch:8/20 AVG Training Loss:1.009357 AVG Val Loss:0.956279\n",
      "Epoch:9/20 AVG Training Loss:0.975960 AVG Val Loss:0.983401\n",
      "Epoch:10/20 AVG Training Loss:0.970839 AVG Val Loss:0.959275\n",
      "Epoch:11/20 AVG Training Loss:0.995411 AVG Val Loss:0.964590\n",
      "Epoch:12/20 AVG Training Loss:0.989104 AVG Val Loss:0.961303\n",
      "Epoch:13/20 AVG Training Loss:0.989181 AVG Val Loss:0.951835\n",
      "Epoch:14/20 AVG Training Loss:0.980858 AVG Val Loss:0.940753\n",
      "Epoch:15/20 AVG Training Loss:0.964388 AVG Val Loss:0.975411\n",
      "Epoch:16/20 AVG Training Loss:0.994346 AVG Val Loss:0.960088\n",
      "Epoch:17/20 AVG Training Loss:0.996641 AVG Val Loss:0.968360\n",
      "Epoch:18/20 AVG Training Loss:0.986187 AVG Val Loss:0.957428\n",
      "Epoch:19/20 AVG Training Loss:0.982101 AVG Val Loss:0.964481\n",
      "Epoch:20/20 AVG Training Loss:0.978656 AVG Val Loss:0.982919\n",
      "========================================\n",
      "Fold 3/5\n",
      "Benign: 56.11% of the CV-TRAIN dataset\n",
      "Malignant: 26.85% of the CV-TRAIN dataset\n",
      "Normal: 17.03% of the CV-TRAIN dataset\n",
      "Benign: 56.00% of the CV-VALID dataset\n",
      "Malignant: 27.20% of the CV-VALID dataset\n",
      "Normal: 16.80% of the CV-VALID dataset\n",
      "========================================\n",
      "Epoch:1/20 AVG Training Loss:1.181105 AVG Val Loss:0.922969\n",
      "Epoch:2/20 AVG Training Loss:1.018595 AVG Val Loss:0.962865\n",
      "Epoch:3/20 AVG Training Loss:1.004379 AVG Val Loss:0.945649\n",
      "Epoch:4/20 AVG Training Loss:0.985605 AVG Val Loss:0.956524\n",
      "Epoch:5/20 AVG Training Loss:1.024331 AVG Val Loss:0.990038\n",
      "Epoch:6/20 AVG Training Loss:0.977436 AVG Val Loss:0.869433\n",
      "Epoch:7/20 AVG Training Loss:0.992093 AVG Val Loss:0.992841\n",
      "Epoch:8/20 AVG Training Loss:1.008665 AVG Val Loss:0.922780\n",
      "Epoch:9/20 AVG Training Loss:0.977301 AVG Val Loss:0.951753\n",
      "Epoch:10/20 AVG Training Loss:0.998457 AVG Val Loss:0.937216\n",
      "Epoch:11/20 AVG Training Loss:0.998005 AVG Val Loss:0.931084\n",
      "Epoch:12/20 AVG Training Loss:0.983201 AVG Val Loss:0.911956\n",
      "Epoch:13/20 AVG Training Loss:0.962511 AVG Val Loss:0.911743\n",
      "Epoch:14/20 AVG Training Loss:0.956857 AVG Val Loss:0.911810\n",
      "Epoch:15/20 AVG Training Loss:0.916907 AVG Val Loss:0.863519\n",
      "Epoch:16/20 AVG Training Loss:0.930791 AVG Val Loss:0.855242\n",
      "Epoch:17/20 AVG Training Loss:0.880195 AVG Val Loss:0.899369\n",
      "Epoch:18/20 AVG Training Loss:0.834491 AVG Val Loss:0.852901\n",
      "Epoch:19/20 AVG Training Loss:0.781517 AVG Val Loss:0.834715\n",
      "Epoch:20/20 AVG Training Loss:0.688692 AVG Val Loss:0.664267\n",
      "========================================\n",
      "Fold 4/5\n",
      "Benign: 56.11% of the CV-TRAIN dataset\n",
      "Malignant: 27.05% of the CV-TRAIN dataset\n",
      "Normal: 16.83% of the CV-TRAIN dataset\n",
      "Benign: 56.00% of the CV-VALID dataset\n",
      "Malignant: 26.40% of the CV-VALID dataset\n",
      "Normal: 17.60% of the CV-VALID dataset\n",
      "========================================\n",
      "Epoch:1/20 AVG Training Loss:1.146528 AVG Val Loss:1.001880\n",
      "Epoch:2/20 AVG Training Loss:1.039102 AVG Val Loss:1.014342\n",
      "Epoch:3/20 AVG Training Loss:1.001128 AVG Val Loss:0.949382\n",
      "Epoch:4/20 AVG Training Loss:0.965338 AVG Val Loss:0.957034\n",
      "Epoch:5/20 AVG Training Loss:0.933094 AVG Val Loss:0.929741\n",
      "Epoch:6/20 AVG Training Loss:0.809417 AVG Val Loss:0.869125\n",
      "Epoch:7/20 AVG Training Loss:0.831323 AVG Val Loss:0.759529\n",
      "Epoch:8/20 AVG Training Loss:0.731759 AVG Val Loss:0.765181\n",
      "Epoch:9/20 AVG Training Loss:0.744885 AVG Val Loss:0.763133\n",
      "Epoch:10/20 AVG Training Loss:0.648510 AVG Val Loss:0.714862\n",
      "Epoch:11/20 AVG Training Loss:0.603081 AVG Val Loss:0.947914\n",
      "Epoch:12/20 AVG Training Loss:0.605972 AVG Val Loss:0.735964\n",
      "Epoch:13/20 AVG Training Loss:0.545202 AVG Val Loss:0.714218\n",
      "Epoch:14/20 AVG Training Loss:0.624126 AVG Val Loss:1.032983\n",
      "Epoch:15/20 AVG Training Loss:0.676212 AVG Val Loss:0.789515\n",
      "Epoch:16/20 AVG Training Loss:0.528700 AVG Val Loss:0.725634\n",
      "Epoch:17/20 AVG Training Loss:0.548035 AVG Val Loss:0.855836\n",
      "Epoch:18/20 AVG Training Loss:0.454001 AVG Val Loss:0.749337\n",
      "Epoch:19/20 AVG Training Loss:0.379635 AVG Val Loss:0.817284\n",
      "Epoch:20/20 AVG Training Loss:0.369865 AVG Val Loss:0.919026\n",
      "========================================\n",
      "Fold 5/5\n",
      "Benign: 56.00% of the CV-TRAIN dataset\n",
      "Malignant: 27.00% of the CV-TRAIN dataset\n",
      "Normal: 17.00% of the CV-TRAIN dataset\n",
      "Benign: 56.45% of the CV-VALID dataset\n",
      "Malignant: 26.61% of the CV-VALID dataset\n",
      "Normal: 16.94% of the CV-VALID dataset\n",
      "========================================\n",
      "Epoch:1/20 AVG Training Loss:1.298862 AVG Val Loss:1.040645\n",
      "Epoch:2/20 AVG Training Loss:0.981655 AVG Val Loss:1.026644\n",
      "Epoch:3/20 AVG Training Loss:0.988356 AVG Val Loss:1.057523\n",
      "Epoch:4/20 AVG Training Loss:0.928973 AVG Val Loss:1.006541\n",
      "Epoch:5/20 AVG Training Loss:0.890335 AVG Val Loss:1.345223\n",
      "Epoch:6/20 AVG Training Loss:0.904287 AVG Val Loss:1.009356\n",
      "Epoch:7/20 AVG Training Loss:0.808899 AVG Val Loss:0.944525\n",
      "Epoch:8/20 AVG Training Loss:0.783105 AVG Val Loss:0.900212\n",
      "Epoch:9/20 AVG Training Loss:0.748275 AVG Val Loss:0.741035\n",
      "Epoch:10/20 AVG Training Loss:0.622356 AVG Val Loss:0.728648\n",
      "Epoch:11/20 AVG Training Loss:0.629699 AVG Val Loss:0.859521\n",
      "Epoch:12/20 AVG Training Loss:0.593651 AVG Val Loss:0.681106\n",
      "Epoch:13/20 AVG Training Loss:0.725660 AVG Val Loss:0.701466\n",
      "Epoch:14/20 AVG Training Loss:0.606645 AVG Val Loss:0.712112\n",
      "Epoch:15/20 AVG Training Loss:0.544751 AVG Val Loss:0.597500\n",
      "Epoch:16/20 AVG Training Loss:0.510429 AVG Val Loss:0.758894\n",
      "Epoch:17/20 AVG Training Loss:0.526934 AVG Val Loss:0.761640\n",
      "Epoch:18/20 AVG Training Loss:0.449258 AVG Val Loss:1.034979\n",
      "Epoch:19/20 AVG Training Loss:0.532934 AVG Val Loss:0.653158\n",
      "Epoch:20/20 AVG Training Loss:0.396850 AVG Val Loss:0.836570\n"
     ]
    }
   ],
   "source": [
    "model = None\n",
    "best_models_per_fold = []\n",
    "\n",
    "for fold, (train_idx, val_idx) in enumerate(skfold.split(train_dataset, labels[train_indices])):\n",
    "    # Check distribution of indices\n",
    "    check_distribution(k, fold, train_indices, train_idx, val_idx)\n",
    "\n",
    "    best_val_loss = float('inf')\n",
    "\n",
    "    train_loader, val_loader = create_train_val_loader(train_dataset, train_idx, val_idx, batch_size)\n",
    "\n",
    "    # Initiate the VGG16\n",
    "    model = models.vgg16(weights=models.VGG16_Weights.DEFAULT)\n",
    "\n",
    "    in_features = model.classifier[6].in_features\n",
    "    model.classifier[6] = nn.Linear(in_features, 3)  # Updated for 3 classes\n",
    "\n",
    "    # Freezing some layers\n",
    "    for layer in model.features[:num_frozen_layers]:\n",
    "        for param in layer.parameters():\n",
    "            param.requires_grad = False\n",
    "\n",
    "    # Initiating our optimizer\n",
    "    optimizer = create_optimizer(model)\n",
    "\n",
    "    # Iterative epochs\n",
    "    for epoch in range(num_epochs):\n",
    "        # Train and Val\n",
    "        avg_train_loss = training(model, device, train_loader, criterion, optimizer)\n",
    "        avg_val_loss = testing(model, device, val_loader, criterion)\n",
    "\n",
    "        print(\"Epoch:{}/{} AVG Training Loss:{:.6f} AVG Val Loss:{:.6f}\".format(epoch + 1, num_epochs, avg_train_loss, avg_val_loss))\n",
    "\n",
    "        # Update best validation loss and save model weights if necessary\n",
    "        if avg_val_loss < best_val_loss:\n",
    "            best_val_loss = avg_val_loss\n",
    "            best_model_state = model.state_dict()\n",
    "\n",
    "        # Save results\n",
    "        fold_results['train_loss'].append(avg_train_loss)\n",
    "        fold_results['val_loss'].append(avg_val_loss)\n",
    "\n",
    "    model.load_state_dict(best_model_state)\n",
    "\n",
    "    best_models_per_fold.append((model, best_val_loss))"
   ]
  },
  {
   "cell_type": "markdown",
   "metadata": {
    "id": "ekn5d17SLGZm"
   },
   "source": [
    "# Testing the model\n",
    "Testing the model on the holdout evaluation set that we created at the beginning."
   ]
  },
  {
   "cell_type": "code",
   "execution_count": null,
   "metadata": {
    "id": "ASDdsckVLFhG"
   },
   "outputs": [],
   "source": [
    "# Create a subset sampler for the test indices\n",
    "test_subsampler = torch.utils.data.SubsetRandomSampler(test_indices)\n",
    "\n",
    "# Create a DataLoader for the test data\n",
    "test_loader = torch.utils.data.DataLoader(\n",
    "    dataset,\n",
    "    batch_size=batch_size,\n",
    "    sampler=test_subsampler,\n",
    "    shuffle=False\n",
    ")\n",
    "\n",
    "# List to store F1 scores for each fold\n",
    "f1_scores_per_fold = []\n",
    "\n",
    "# Extract models from the list of best models per fold\n",
    "extracted_models = [model for model, _ in best_models_per_fold]\n",
    "\n",
    "# Loop through extracted models for evaluation\n",
    "for model in extracted_models:\n",
    "    model.eval()\n",
    "    all_labels = []\n",
    "    all_predicted_labels = []\n",
    "\n",
    "    # Disable gradient calculation during evaluation\n",
    "    with torch.no_grad():\n",
    "        # Loop through test data batches\n",
    "        for images, labels in test_loader:\n",
    "            images, labels = images.to(device), labels.to(device)\n",
    "            outputs = model(images)\n",
    "\n",
    "            # Get predicted labels\n",
    "            _, predicted_labels = torch.max(outputs, 1)\n",
    "            all_predicted_labels.extend(predicted_labels.cpu().numpy())\n",
    "            all_labels.extend(labels.cpu().numpy())\n",
    "\n",
    "    f1_scores = f1_score(all_labels, all_predicted_labels, average='micro')\n",
    "    f1_scores_per_fold.append(f1_scores)\n"
   ]
  },
  {
   "cell_type": "markdown",
   "metadata": {
    "id": "5blWaQslLm9t"
   },
   "source": [
    "# Performance Measurements"
   ]
  },
  {
   "cell_type": "code",
   "execution_count": null,
   "metadata": {
    "colab": {
     "base_uri": "https://localhost:8080/"
    },
    "executionInfo": {
     "elapsed": 10,
     "status": "ok",
     "timestamp": 1719185989874,
     "user": {
      "displayName": "Ali Wehbe",
      "userId": "05622343126361511658"
     },
     "user_tz": -180
    },
    "id": "C7-3Y-eJLnyl",
    "outputId": "7b6801fe-8657-430b-a69f-f4ec8630122e"
   },
   "outputs": [
    {
     "name": "stdout",
     "output_type": "stream",
     "text": [
      "Avg F1 Score: 0.6858974358974359\n"
     ]
    }
   ],
   "source": [
    "# Calculate the average F1 scores across different folds\n",
    "avg_f1_score = np.mean(f1_scores_per_fold)\n",
    "\n",
    "print(f\"Avg F1 Score: {avg_f1_score}\")\n",
    "\n",
    "# Calculate the average training and test loss at specific epochs\n",
    "avg_train_loss = []\n",
    "avg_test_loss = []\n",
    "for epoch in range(num_epochs):\n",
    "    avg_train_loss_at_epoch = np.mean(np.array(fold_results['train_loss'])[epoch::num_epochs], axis=0)\n",
    "    avg_test_loss_at_epoch = np.mean(np.array(fold_results['val_loss'])[epoch::num_epochs], axis=0)\n",
    "    avg_train_loss.append(avg_train_loss_at_epoch)\n",
    "    avg_test_loss.append(avg_test_loss_at_epoch)"
   ]
  },
  {
   "cell_type": "code",
   "execution_count": null,
   "metadata": {
    "colab": {
     "base_uri": "https://localhost:8080/",
     "height": 472
    },
    "executionInfo": {
     "elapsed": 3,
     "status": "ok",
     "timestamp": 1719185989874,
     "user": {
      "displayName": "Ali Wehbe",
      "userId": "05622343126361511658"
     },
     "user_tz": -180
    },
    "id": "7hmfx4s2LqQ1",
    "outputId": "a067c28d-623b-46d9-c034-e8a6b9b17146"
   },
   "outputs": [
    {
     "data": {
      "image/png": "[encoded data removed]",
      "text/plain": [
       "<Figure size 640x480 with 1 Axes>"
      ]
     },
     "metadata": {},
     "output_type": "display_data"
    }
   ],
   "source": [
    "plt.figure()\n",
    "plt.plot(range(1, num_epochs + 1), avg_train_loss, label='Training Loss')\n",
    "plt.plot(range(1, num_epochs + 1), avg_test_loss, label='Validation Loss')\n",
    "plt.xlabel('Epoch')\n",
    "plt.ylabel('Loss')\n",
    "plt.title('Training and Validation Loss')\n",
    "plt.legend()\n",
    "plt.show()"
   ]
  }
 ],
 "metadata": {
  "accelerator": "GPU",
  "colab": {
   "authorship_tag": "ABX9TyPZphltGOIfbM78VRgX+dcs",
   "gpuType": "L4",
   "mount_file_id": "1K3IBfxrYWKRDWIvgn6rt83dVA8D50WNi",
   "provenance": [
    {
     "file_id": "11jqPnm8EY9swYVVwspfMWmY5w8M_IzWs",
     "timestamp": 1716880736619
    }
   ]
  },
  "kernelspec": {
   "display_name": "Python 3 (ipykernel)",
   "language": "python",
   "name": "python3"
  },
  "language_info": {
   "codemirror_mode": {
    "name": "ipython",
    "version": 3
   },
   "file_extension": ".py",
   "mimetype": "text/x-python",
   "name": "python",
   "nbconvert_exporter": "python",
   "pygments_lexer": "ipython3",
   "version": "3.8.18"
  }
 },
 "nbformat": 4,
 "nbformat_minor": 1
}
