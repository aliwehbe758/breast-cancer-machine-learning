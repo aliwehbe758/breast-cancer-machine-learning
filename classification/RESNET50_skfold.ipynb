{
 "cells": [
  {
   "cell_type": "code",
   "execution_count": null,
   "metadata": {
    "id": "4Ria-6r5U6qL"
   },
   "outputs": [],
   "source": [
    "# Global packages\n",
    "import os\n",
    "import random\n",
    "import numpy as np\n",
    "import matplotlib.pyplot as plt\n",
    "from collections import Counter\n",
    "%matplotlib inline\n",
    "\n",
    "from sklearn.model_selection import StratifiedKFold, train_test_split\n",
    "from sklearn.metrics import f1_score, precision_score, recall_score, roc_curve, roc_auc_score, auc\n",
    "from sklearn.utils import shuffle\n",
    "\n",
    "import torch\n",
    "import torch.nn as nn\n",
    "import torch.optim as optim\n",
    "from torchvision import datasets\n",
    "from torchvision import models, transforms\n",
    "from torch.utils.data import DataLoader, Subset\n",
    "from torch.utils.data.sampler import SubsetRandomSampler"
   ]
  },
  {
   "cell_type": "code",
   "execution_count": null,
   "metadata": {
    "colab": {
     "base_uri": "https://localhost:8080/"
    },
    "executionInfo": {
     "elapsed": 36154,
     "status": "ok",
     "timestamp": 1719760772352,
     "user": {
      "displayName": "Ali Wehbe",
      "userId": "05622343126361511658"
     },
     "user_tz": -180
    },
    "id": "zBgYr-Abxgro",
    "outputId": "8ec2cde0-13e3-4a5c-caed-bd837230a085"
   },
   "outputs": [
    {
     "name": "stdout",
     "output_type": "stream",
     "text": [
      "Mounted at /content/drive\n"
     ]
    }
   ],
   "source": [
    "device = torch.device(\"cuda\" if torch.cuda.is_available() else \"cpu\")"
   ]
  },
  {
   "cell_type": "markdown",
   "metadata": {
    "id": "Sn63B0JzyrLX"
   },
   "source": [
    "# Loading in the Dataset"
   ]
  },
  {
   "cell_type": "code",
   "execution_count": null,
   "metadata": {
    "id": "aRZrpazox-9N"
   },
   "outputs": [],
   "source": [
    "transform = transforms.Compose([\n",
    "    transforms.RandomHorizontalFlip(),\n",
    "    transforms.RandomRotation(10),\n",
    "    transforms.Resize((224,224)),\n",
    "    transforms.ToTensor()\n",
    "])\n",
    "\n",
    "# Load the dataset\n",
    "dataset = datasets.ImageFolder(\"../Dataset_BUSI_with_GT/\", transform=transform)\n",
    "\n",
    "# Get the labels from the dataset\n",
    "labels = np.array(dataset.targets)\n",
    "\n",
    "# Split the dataset into train and test sets while maintaining class proportions\n",
    "train_indices, test_indices = train_test_split(np.arange(len(dataset)), test_size=0.2, random_state=42, stratify=labels)\n",
    "\n",
    "# Create Subset datasets for train and test\n",
    "train_dataset = Subset(dataset, train_indices)\n",
    "test_dataset = Subset(dataset, test_indices)"
   ]
  },
  {
   "cell_type": "code",
   "execution_count": null,
   "metadata": {
    "id": "lGczg534y-kV"
   },
   "outputs": [],
   "source": [
    "# Making sure train and test indices don't overlap\n",
    "assert len(set(train_indices).intersection(test_indices)) == 0, \"Indices overlap between train and validation sets.\""
   ]
  },
  {
   "cell_type": "markdown",
   "metadata": {
    "id": "kSJU8QDC67HG"
   },
   "source": [
    "# Checking the distribution\n",
    "This is to make sure that the distributions are equal across the Original, Train, and Test datasets before training and evaluation."
   ]
  },
  {
   "cell_type": "code",
   "execution_count": null,
   "metadata": {
    "colab": {
     "base_uri": "https://localhost:8080/"
    },
    "executionInfo": {
     "elapsed": 1,
     "status": "ok",
     "timestamp": 1719760777774,
     "user": {
      "displayName": "Ali Wehbe",
      "userId": "05622343126361511658"
     },
     "user_tz": -180
    },
    "id": "t_DRYOHV6-bT",
    "outputId": "d7a35366-89f6-400d-f64e-8013ed12a08a"
   },
   "outputs": [
    {
     "name": "stdout",
     "output_type": "stream",
     "text": [
      "Main Dataset Ratio:\n",
      "benign: 437 samples (56.03% of the main dataset)\n",
      "malignant: 210 samples (26.92% of the main dataset)\n",
      "normal: 133 samples (17.05% of the main dataset)\n",
      "========================================\n",
      "Train Dataset Ratio:\n",
      "Benign: 56.09% of the train dataset\n",
      "Malignant: 26.92% of the train dataset\n",
      "Normal: 16.99% of the train dataset\n",
      "========================================\n",
      "Test Dataset Ratio:\n",
      "Benign: 55.77% of the test dataset\n",
      "Malignant: 26.92% of the test dataset\n",
      "Normal: 17.31% of the test dataset\n"
     ]
    }
   ],
   "source": [
    "def print_distribution(header, distribution):\n",
    "    \"\"\"\n",
    "    Prints the class distribution of a dataset.\n",
    "\n",
    "    Args:\n",
    "        header (str): Header text to indicate the dataset type.\n",
    "        distribution (dict): A dictionary containing class labels and their ratios.\n",
    "\n",
    "    Returns:\n",
    "        None\n",
    "    \"\"\"\n",
    "    print(\"=\" * 40)\n",
    "    print(f\"{header} Dataset Ratio:\")\n",
    "    for label, ratio in distribution.items():\n",
    "        class_name = \"Benign\" if label == 0 else \"Malignant\" if label == 1 else \"Normal\"\n",
    "        print(f\"{class_name}: {ratio:.2%} of the {header.lower()} dataset\")\n",
    "\n",
    "# Count the occurrences of each label in the dataset\n",
    "label_counts = Counter(dataset.targets)\n",
    "total_samples = len(dataset)\n",
    "labels = np.array(dataset.targets)\n",
    "\n",
    "# Filter indices for the train and test sets\n",
    "train_indices = [idx for idx in range(len(dataset)) if idx in train_indices]\n",
    "test_indices = [idx for idx in range(len(dataset)) if idx in test_indices]\n",
    "\n",
    "def calculate_distribution(indices):\n",
    "    \"\"\"\n",
    "    Calculates the class distribution for a given set of indices.\n",
    "\n",
    "    Args:\n",
    "        indices (list): List of indices for a specific dataset subset.\n",
    "\n",
    "    Returns:\n",
    "        dict: A dictionary containing class labels and their ratios in the subset.\n",
    "    \"\"\"\n",
    "    total_samples = len(indices)\n",
    "    return {class_label: np.sum(labels[indices] == class_label) / total_samples for class_label in np.unique(labels)}\n",
    "\n",
    "# Calculate class distribution for the train and test sets\n",
    "train_class_distribution = calculate_distribution(train_indices)\n",
    "test_class_distribution = calculate_distribution(test_indices)\n",
    "\n",
    "# Print the class distribution of the main dataset\n",
    "print(\"Main Dataset Ratio:\")\n",
    "for label, count in label_counts.items():\n",
    "    label_str = dataset.classes[label]\n",
    "    ratio = count / total_samples\n",
    "    print(f\"{label_str}: {count} samples ({ratio:.2%} of the main dataset)\")\n",
    "\n",
    "# Print class distribution for train and test sets\n",
    "print_distribution(\"Train\", train_class_distribution)\n",
    "print_distribution(\"Test\", test_class_distribution)\n"
   ]
  },
  {
   "cell_type": "markdown",
   "metadata": {
    "id": "uTqPmJ057MWl"
   },
   "source": [
    "# Creating Optimizer\n",
    "Currently the optimizer is an Adam Optimizer"
   ]
  },
  {
   "cell_type": "code",
   "execution_count": null,
   "metadata": {
    "id": "WGdeOX4-7D_c"
   },
   "outputs": [],
   "source": [
    "def create_optimizer(model,  # Function that creates an optimizer for a given model and hyperparameters\n",
    "                    learning_rate_pretrained=0.00039710,  # Learning rate for pretrained layers\n",
    "                    learning_rate_new=0.00083336,  # Learning rate for new layers\n",
    "                    weight_decay=0.0073691,  # Weight decay (L2 regularization) coefficient\n",
    "                    beta1=0.9,  # Exponential decay rate for the first moment estimates (Adam parameter)\n",
    "                    beta2=0.999,  # Exponential decay rate for the second moment estimates (Adam parameter)\n",
    "                    eps=1e-8,  # Small constant to prevent division by zero (Adam parameter)\n",
    "                    amsgrad=False):  # Flag for using the AMSGrad variant of Adam optimizer12.0\n",
    "\n",
    "\n",
    "    # Separate model parameters into two groups: pretrained and new\n",
    "    params_pretrained = []  # Parameters from the pretrained layers\n",
    "    params_new = []         # Parameters from the new layers\n",
    "\n",
    "    for name, param in model.named_parameters():\n",
    "        if 'fc' in name:\n",
    "            params_new.append(param)  # Parameters from the new layers\n",
    "        else:\n",
    "            params_pretrained.append(param)  # Parameters from the pretrained layers\n",
    "\n",
    "    '''Setting Loss Functions and Optimizers'''\n",
    "    # Create an Adam optimizer with different learning rates for the two parameter groups\n",
    "    optimizer = optim.Adam([\n",
    "        {'params': params_pretrained, 'lr': learning_rate_pretrained, 'weight_decay': 0.01},  # Pretrained layer parameters with specific learning rate\n",
    "        {'params': params_new, 'lr': learning_rate_new, 'weight_decay': 0.01},                # New layer parameters with different learning rate\n",
    "    ], weight_decay=weight_decay, betas=(beta1, beta2), eps=eps, amsgrad=amsgrad)\n",
    "\n",
    "    return optimizer"
   ]
  },
  {
   "cell_type": "markdown",
   "metadata": {
    "id": "8hVjQruo7RqV"
   },
   "source": [
    "# Train Function\n",
    "Training function for the Resnet50 model."
   ]
  },
  {
   "cell_type": "code",
   "execution_count": null,
   "metadata": {
    "id": "N6IUFgBY7LU9"
   },
   "outputs": [],
   "source": [
    "def training(model, device, train_loader, criterion, optimizer):\n",
    "    \"\"\"\n",
    "    Training function for a neural network model.\n",
    "\n",
    "    Args:\n",
    "        model (nn.Module): The neural network model to be trained.\n",
    "        device (torch.device): The device (e.g., 'cuda' or 'cpu') to use for training.\n",
    "        train_loader (DataLoader): DataLoader containing training data.\n",
    "        criterion: The loss function.\n",
    "        optimizer: The optimization algorithm.\n",
    "\n",
    "    Returns:\n",
    "        float: The average training loss for one epoch.\n",
    "    \"\"\"\n",
    "\n",
    "    # Move the model to the specified device\n",
    "    model.to(device)\n",
    "    # Set the model in training mode\n",
    "    model.train()\n",
    "\n",
    "    # Initialize variables to keep track of training loss and total samples\n",
    "    train_loss, total_samples = 0.0, 0\n",
    "\n",
    "    # Loop through the batches in the training data\n",
    "    for images, labels in train_loader:\n",
    "        # Move data to the specified device\n",
    "        images, labels = images.to(device), labels.to(device)\n",
    "\n",
    "        # Zero the gradients of the optimizer\n",
    "        optimizer.zero_grad()\n",
    "\n",
    "        # Forward pass through the model\n",
    "        outputs = model(images)\n",
    "        # Calculate the loss\n",
    "        loss = criterion(outputs, labels)\n",
    "\n",
    "        # Backpropagation: Compute gradients\n",
    "        loss.backward()\n",
    "        # Update the model's parameters\n",
    "        optimizer.step()\n",
    "\n",
    "        # Accumulate the training loss for the current batch\n",
    "        train_loss += loss.item() * images.size(0)\n",
    "        # Count the total number of processed samples\n",
    "        total_samples += labels.size(0)\n",
    "\n",
    "    # Calculate the average training loss for the entire epoch\n",
    "    avg_train_loss = train_loss / total_samples\n",
    "\n",
    "    return avg_train_loss"
   ]
  },
  {
   "cell_type": "markdown",
   "metadata": {
    "id": "f-LVbfh07YRu"
   },
   "source": [
    "# Testing Function (Evaluation)\n",
    "Evaluation function for the Resnet50 model."
   ]
  },
  {
   "cell_type": "code",
   "execution_count": null,
   "metadata": {
    "id": "1ztghsv67V-G"
   },
   "outputs": [],
   "source": [
    "def testing(model, device, val_loader, criterion):\n",
    "    \"\"\"\n",
    "    Evaluation function for a neural network model.\n",
    "\n",
    "    Args:\n",
    "        model (nn.Module): The neural network model to be evaluated.\n",
    "        device (torch.device): The device (e.g., 'cuda' or 'cpu') to use for evaluation.\n",
    "        val_loader (DataLoader): DataLoader containing validation data.\n",
    "        criterion: The loss function.\n",
    "\n",
    "    Returns:\n",
    "        float: The average validation loss.\n",
    "    \"\"\"\n",
    "\n",
    "    # Move the model to the specified device\n",
    "    model.to(device)\n",
    "    # Set the model in evaluation mode\n",
    "    model.eval()\n",
    "\n",
    "    # Initialize variables to keep track of validation loss and total samples\n",
    "    val_loss, total_samples = 0.0, 0\n",
    "\n",
    "    # Disable gradient calculation during evaluation\n",
    "    with torch.no_grad():\n",
    "        # Loop through the batches in the validation data\n",
    "        for images, labels in val_loader:\n",
    "            # Move data to the specified device\n",
    "            images, labels = images.to(device), labels.to(device)\n",
    "            # Forward pass through the model\n",
    "            outputs = model(images)\n",
    "            # Calculate the loss\n",
    "            loss = criterion(outputs, labels)\n",
    "\n",
    "            # Accumulate the validation loss for the current batch\n",
    "            val_loss += loss.item() * labels.size(0)\n",
    "            # Count the total number of processed samples\n",
    "            total_samples += labels.size(0)\n",
    "\n",
    "    # Calculate the average validation loss\n",
    "    avg_val_loss = val_loss / total_samples\n",
    "\n",
    "    return avg_val_loss"
   ]
  },
  {
   "cell_type": "markdown",
   "metadata": {
    "id": "lsLqhzMN7cpM"
   },
   "source": [
    "# Creating Train and Validation Loaders\n",
    "Creates data loaders for training and validation using given indices."
   ]
  },
  {
   "cell_type": "code",
   "execution_count": null,
   "metadata": {
    "id": "HzMAHDAb7eX_"
   },
   "outputs": [],
   "source": [
    "def create_train_val_loader(train_dataset, train_idx, val_idx, batch_size):\n",
    "    \"\"\"\n",
    "    Creates data loaders for training and validation using given indices.\n",
    "\n",
    "    Args:\n",
    "        train_dataset (Dataset): The training dataset.\n",
    "        train_idx (list): List of indices for the training set.\n",
    "        val_idx (list): List of indices for the validation set.\n",
    "        batch_size (int): Batch size for the data loaders.\n",
    "\n",
    "    Returns:\n",
    "        train_loader (DataLoader): DataLoader for the training data.\n",
    "        val_loader (DataLoader): DataLoader for the validation data.\n",
    "    \"\"\"\n",
    "\n",
    "    # Create subset samplers for training and validation indices\n",
    "    train_subsampler = torch.utils.data.SubsetRandomSampler(train_idx)\n",
    "    val_subsampler = torch.utils.data.SubsetRandomSampler(val_idx)\n",
    "\n",
    "    # Check for overlapping indices between train and validation sets\n",
    "    assert len(set(train_idx).intersection(val_idx)) == 0, \"Indices overlap between train and validation sets.\"\n",
    "\n",
    "    # Define data loaders for training and validation data in this fold\n",
    "    train_loader = torch.utils.data.DataLoader(\n",
    "        train_dataset,\n",
    "        batch_size=batch_size,\n",
    "        sampler=train_subsampler,\n",
    "        shuffle=False\n",
    "    )\n",
    "\n",
    "    val_loader = torch.utils.data.DataLoader(\n",
    "        train_dataset,\n",
    "        batch_size=batch_size,\n",
    "        sampler=val_subsampler\n",
    "    )\n",
    "\n",
    "    return train_loader, val_loader"
   ]
  },
  {
   "cell_type": "markdown",
   "metadata": {
    "id": "Yc-IRG3z7itG"
   },
   "source": [
    "# Setting Parameters"
   ]
  },
  {
   "cell_type": "code",
   "execution_count": null,
   "metadata": {
    "id": "Ix6StDPu7jJJ"
   },
   "outputs": [],
   "source": [
    "'''Setting training parameters'''\n",
    "num_epochs = 100 # epochs\n",
    "batch_size = 32 # batch size\n",
    "k=5 # fold number\n",
    "\n",
    "'''Setting cross-validation parameters'''\n",
    "fold_results={'train_loss': [],\n",
    "              'val_loss': []} # dictionary to memorize all the scores\n",
    "\n",
    "skfold = StratifiedKFold(n_splits=k, shuffle=True, random_state=42) # sklearn library\n",
    "\n",
    "'''Setting Loss Function'''\n",
    "criterion = nn.CrossEntropyLoss() # Cross Entropy Loss for multi-class classification"
   ]
  },
  {
   "cell_type": "markdown",
   "metadata": {
    "id": "LW3bVuAl7mB1"
   },
   "source": [
    "# Checking distributions of each fold\n",
    "Validates the class distribution and indices of a cross-validation fold."
   ]
  },
  {
   "cell_type": "code",
   "execution_count": null,
   "metadata": {
    "id": "1OBgN0FZ7ksq"
   },
   "outputs": [],
   "source": [
    "def check_distribution(k, fold, train_indices, train_idx, val_idx):\n",
    "    \"\"\"\n",
    "    Validates the class distribution and indices of a cross-validation fold.\n",
    "\n",
    "    Args:\n",
    "        k (int): Total number of folds in cross-validation.\n",
    "        fold (int): Current fold number.\n",
    "        train_indices (list): List of indices for the entire dataset.\n",
    "        train_idx (list): List of indices for the training set in the current fold.\n",
    "        val_idx (list): List of indices for the validation set in the current fold.\n",
    "\n",
    "    Returns:\n",
    "        None\n",
    "    \"\"\"\n",
    "\n",
    "    # Calculate class distribution for training and validation sets\n",
    "    train_class_distribution = {class_label: np.sum(labels[train_indices][train_idx] == class_label) for class_label in np.unique(labels)}\n",
    "    val_class_distribution = {class_label: np.sum(labels[train_indices][val_idx] == class_label) for class_label in np.unique(labels)}\n",
    "\n",
    "    # Calculate class ratios for training and validation sets\n",
    "    total_train_samples = len(train_idx)\n",
    "    total_val_samples = len(val_idx)\n",
    "    train_class_ratios = {class_label: count / total_train_samples for class_label, count in train_class_distribution.items()}\n",
    "    val_class_ratios = {class_label: count / total_val_samples for class_label, count in val_class_distribution.items()}\n",
    "\n",
    "    # Check dataset size and indices consistency\n",
    "    total_samples = len(train_indices)\n",
    "    train_samples = len(train_idx)\n",
    "    val_samples = len(val_idx)\n",
    "    assert total_samples == train_samples + val_samples, \"Train and validation set sizes do not add up.\"\n",
    "\n",
    "    # Check for index uniqueness and non-overlapping\n",
    "    assert len(set(train_idx).intersection(val_idx)) == 0, \"Indices overlap between train and validation sets.\"\n",
    "\n",
    "    print(\"=\" * 40)\n",
    "    print(f\"Fold {fold + 1}/{k}\")\n",
    "\n",
    "    # Print class ratios for training set\n",
    "    for train_label, train_ratio in train_class_ratios.items():\n",
    "        class_name = \"Benign\" if train_label == 0 else \"Malignant\" if train_label == 1 else \"Normal\"\n",
    "        print(f\"{class_name}: {train_ratio:.2%} of the CV-TRAIN dataset\")\n",
    "\n",
    "    # Print class ratios for validation set\n",
    "    for val_label, val_ratio in val_class_ratios.items():\n",
    "        class_name = \"Benign\" if val_label == 0 else \"Malignant\" if val_label == 1 else \"Normal\"\n",
    "        print(f\"{class_name}: {val_ratio:.2%} of the CV-VALID dataset\")\n",
    "\n",
    "    print(\"=\" * 40)"
   ]
  },
  {
   "cell_type": "markdown",
   "metadata": {
    "id": "WU2T2bx07q1d"
   },
   "source": [
    "# Running the Model"
   ]
  },
  {
   "cell_type": "code",
   "execution_count": null,
   "metadata": {
    "colab": {
     "base_uri": "https://localhost:8080/"
    },
    "executionInfo": {
     "elapsed": 2187514,
     "status": "ok",
     "timestamp": 1719764295861,
     "user": {
      "displayName": "Ali Wehbe",
      "userId": "05622343126361511658"
     },
     "user_tz": -180
    },
    "id": "ZzykelZN7r0-",
    "outputId": "f5659e7d-48ab-4f5f-ac4f-6da1b8fd164c"
   },
   "outputs": [
    {
     "name": "stdout",
     "output_type": "stream",
     "text": [
      "========================================\n",
      "Fold 1/5\n",
      "Benign: 56.11% of the CV-TRAIN dataset\n",
      "Malignant: 26.85% of the CV-TRAIN dataset\n",
      "Normal: 17.03% of the CV-TRAIN dataset\n",
      "Benign: 56.00% of the CV-VALID dataset\n",
      "Malignant: 27.20% of the CV-VALID dataset\n",
      "Normal: 16.80% of the CV-VALID dataset\n",
      "========================================\n",
      "Epoch:1/100 AVG Training Loss:0.799872 AVG Val Loss:0.649284\n",
      "Epoch:2/100 AVG Training Loss:0.539057 AVG Val Loss:0.921578\n",
      "Epoch:3/100 AVG Training Loss:0.422937 AVG Val Loss:0.487876\n",
      "Epoch:4/100 AVG Training Loss:0.346688 AVG Val Loss:0.487324\n",
      "Epoch:5/100 AVG Training Loss:0.296155 AVG Val Loss:0.513281\n",
      "Epoch:6/100 AVG Training Loss:0.306820 AVG Val Loss:0.737422\n",
      "Epoch:7/100 AVG Training Loss:0.311085 AVG Val Loss:0.973459\n",
      "Epoch:8/100 AVG Training Loss:0.401351 AVG Val Loss:0.403701\n",
      "Epoch:9/100 AVG Training Loss:0.245637 AVG Val Loss:0.583125\n",
      "Epoch:10/100 AVG Training Loss:0.286162 AVG Val Loss:0.459474\n",
      "Epoch:11/100 AVG Training Loss:0.296283 AVG Val Loss:0.517407\n",
      "Epoch:12/100 AVG Training Loss:0.327783 AVG Val Loss:0.588548\n",
      "Epoch:13/100 AVG Training Loss:0.246140 AVG Val Loss:0.568353\n",
      "Epoch:14/100 AVG Training Loss:0.236963 AVG Val Loss:0.807101\n",
      "Epoch:15/100 AVG Training Loss:0.276344 AVG Val Loss:0.446352\n",
      "Epoch:16/100 AVG Training Loss:0.176271 AVG Val Loss:0.338674\n",
      "Epoch:17/100 AVG Training Loss:0.130814 AVG Val Loss:0.331297\n",
      "Epoch:18/100 AVG Training Loss:0.062662 AVG Val Loss:0.343144\n",
      "Epoch:19/100 AVG Training Loss:0.056360 AVG Val Loss:0.352015\n",
      "Epoch:20/100 AVG Training Loss:0.087946 AVG Val Loss:0.404997\n",
      "Epoch:21/100 AVG Training Loss:0.071654 AVG Val Loss:0.440419\n",
      "Epoch:22/100 AVG Training Loss:0.068295 AVG Val Loss:0.433232\n",
      "Epoch:23/100 AVG Training Loss:0.060002 AVG Val Loss:0.351676\n",
      "Epoch:24/100 AVG Training Loss:0.039126 AVG Val Loss:0.340195\n",
      "Epoch:25/100 AVG Training Loss:0.052685 AVG Val Loss:0.450233\n",
      "Epoch:26/100 AVG Training Loss:0.055446 AVG Val Loss:0.316911\n",
      "Epoch:27/100 AVG Training Loss:0.048648 AVG Val Loss:0.349860\n",
      "Epoch:28/100 AVG Training Loss:0.042035 AVG Val Loss:0.382978\n",
      "Epoch:29/100 AVG Training Loss:0.051319 AVG Val Loss:0.416640\n",
      "Epoch:30/100 AVG Training Loss:0.056308 AVG Val Loss:0.456657\n",
      "Epoch:31/100 AVG Training Loss:0.042290 AVG Val Loss:0.459450\n",
      "Epoch:32/100 AVG Training Loss:0.032300 AVG Val Loss:0.421079\n",
      "Epoch:33/100 AVG Training Loss:0.038402 AVG Val Loss:0.382155\n",
      "Epoch:34/100 AVG Training Loss:0.035512 AVG Val Loss:0.420324\n",
      "Epoch:35/100 AVG Training Loss:0.037098 AVG Val Loss:0.404995\n",
      "Epoch:36/100 AVG Training Loss:0.036102 AVG Val Loss:0.393536\n",
      "Early stopping triggered\n",
      "========================================\n",
      "Fold 2/5\n",
      "Benign: 56.11% of the CV-TRAIN dataset\n",
      "Malignant: 26.85% of the CV-TRAIN dataset\n",
      "Normal: 17.03% of the CV-TRAIN dataset\n",
      "Benign: 56.00% of the CV-VALID dataset\n",
      "Malignant: 27.20% of the CV-VALID dataset\n",
      "Normal: 16.80% of the CV-VALID dataset\n",
      "========================================\n",
      "Epoch:1/100 AVG Training Loss:0.712385 AVG Val Loss:2.902139\n",
      "Epoch:2/100 AVG Training Loss:0.453562 AVG Val Loss:0.911569\n",
      "Epoch:3/100 AVG Training Loss:0.397745 AVG Val Loss:0.621793\n",
      "Epoch:4/100 AVG Training Loss:0.394608 AVG Val Loss:0.671972\n",
      "Epoch:5/100 AVG Training Loss:0.418370 AVG Val Loss:0.486680\n",
      "Epoch:6/100 AVG Training Loss:0.328445 AVG Val Loss:0.478464\n",
      "Epoch:7/100 AVG Training Loss:0.258749 AVG Val Loss:0.952197\n",
      "Epoch:8/100 AVG Training Loss:0.292669 AVG Val Loss:0.943991\n",
      "Epoch:9/100 AVG Training Loss:0.292680 AVG Val Loss:0.595250\n",
      "Epoch:10/100 AVG Training Loss:0.301463 AVG Val Loss:0.834723\n",
      "Epoch:11/100 AVG Training Loss:0.395281 AVG Val Loss:0.600920\n",
      "Epoch:12/100 AVG Training Loss:0.328284 AVG Val Loss:0.625382\n",
      "Epoch:13/100 AVG Training Loss:0.202818 AVG Val Loss:0.351808\n",
      "Epoch:14/100 AVG Training Loss:0.157740 AVG Val Loss:0.413949\n",
      "Epoch:15/100 AVG Training Loss:0.108360 AVG Val Loss:0.360286\n",
      "Epoch:16/100 AVG Training Loss:0.099723 AVG Val Loss:0.350862\n",
      "Epoch:17/100 AVG Training Loss:0.108787 AVG Val Loss:0.372803\n",
      "Epoch:18/100 AVG Training Loss:0.077567 AVG Val Loss:0.358163\n",
      "Epoch:19/100 AVG Training Loss:0.065283 AVG Val Loss:0.307085\n",
      "Epoch:20/100 AVG Training Loss:0.059150 AVG Val Loss:0.372026\n",
      "Epoch:21/100 AVG Training Loss:0.036283 AVG Val Loss:0.398512\n",
      "Epoch:22/100 AVG Training Loss:0.060363 AVG Val Loss:0.406236\n",
      "Epoch:23/100 AVG Training Loss:0.048559 AVG Val Loss:0.458676\n",
      "Epoch:24/100 AVG Training Loss:0.036349 AVG Val Loss:0.351934\n",
      "Epoch:25/100 AVG Training Loss:0.052953 AVG Val Loss:0.399277\n",
      "Epoch:26/100 AVG Training Loss:0.038249 AVG Val Loss:0.442826\n",
      "Epoch:27/100 AVG Training Loss:0.040174 AVG Val Loss:0.483445\n",
      "Epoch:28/100 AVG Training Loss:0.026156 AVG Val Loss:0.367217\n",
      "Epoch:29/100 AVG Training Loss:0.039071 AVG Val Loss:0.362410\n",
      "Early stopping triggered\n",
      "========================================\n",
      "Fold 3/5\n",
      "Benign: 56.11% of the CV-TRAIN dataset\n",
      "Malignant: 26.85% of the CV-TRAIN dataset\n",
      "Normal: 17.03% of the CV-TRAIN dataset\n",
      "Benign: 56.00% of the CV-VALID dataset\n",
      "Malignant: 27.20% of the CV-VALID dataset\n",
      "Normal: 16.80% of the CV-VALID dataset\n",
      "========================================\n",
      "Epoch:1/100 AVG Training Loss:0.817151 AVG Val Loss:1.012078\n",
      "Epoch:2/100 AVG Training Loss:0.558050 AVG Val Loss:1.037403\n",
      "Epoch:3/100 AVG Training Loss:0.370809 AVG Val Loss:0.838363\n",
      "Epoch:4/100 AVG Training Loss:0.354967 AVG Val Loss:0.584047\n",
      "Epoch:5/100 AVG Training Loss:0.295692 AVG Val Loss:0.634950\n",
      "Epoch:6/100 AVG Training Loss:0.326150 AVG Val Loss:0.716757\n",
      "Epoch:7/100 AVG Training Loss:0.356755 AVG Val Loss:1.015491\n",
      "Epoch:8/100 AVG Training Loss:0.378466 AVG Val Loss:0.560262\n",
      "Epoch:9/100 AVG Training Loss:0.373861 AVG Val Loss:0.728306\n",
      "Epoch:10/100 AVG Training Loss:0.341055 AVG Val Loss:0.612734\n",
      "Epoch:11/100 AVG Training Loss:0.266676 AVG Val Loss:0.744367\n",
      "Epoch:12/100 AVG Training Loss:0.353846 AVG Val Loss:0.598765\n",
      "Epoch:13/100 AVG Training Loss:0.338448 AVG Val Loss:0.787393\n",
      "Epoch:14/100 AVG Training Loss:0.303464 AVG Val Loss:1.059773\n",
      "Epoch:15/100 AVG Training Loss:0.249088 AVG Val Loss:0.502978\n",
      "Epoch:16/100 AVG Training Loss:0.161068 AVG Val Loss:0.511788\n",
      "Epoch:17/100 AVG Training Loss:0.114041 AVG Val Loss:0.446591\n",
      "Epoch:18/100 AVG Training Loss:0.098624 AVG Val Loss:0.527761\n",
      "Epoch:19/100 AVG Training Loss:0.116319 AVG Val Loss:0.510978\n",
      "Epoch:20/100 AVG Training Loss:0.061341 AVG Val Loss:0.555160\n",
      "Epoch:21/100 AVG Training Loss:0.066824 AVG Val Loss:0.582195\n",
      "Epoch:22/100 AVG Training Loss:0.059914 AVG Val Loss:0.588353\n",
      "Epoch:23/100 AVG Training Loss:0.044128 AVG Val Loss:0.569985\n",
      "Epoch:24/100 AVG Training Loss:0.052128 AVG Val Loss:0.668628\n",
      "Epoch:25/100 AVG Training Loss:0.069333 AVG Val Loss:0.707925\n",
      "Epoch:26/100 AVG Training Loss:0.047551 AVG Val Loss:0.689399\n",
      "Epoch:27/100 AVG Training Loss:0.042135 AVG Val Loss:0.594179\n",
      "Early stopping triggered\n",
      "========================================\n",
      "Fold 4/5\n",
      "Benign: 56.11% of the CV-TRAIN dataset\n",
      "Malignant: 27.05% of the CV-TRAIN dataset\n",
      "Normal: 16.83% of the CV-TRAIN dataset\n",
      "Benign: 56.00% of the CV-VALID dataset\n",
      "Malignant: 26.40% of the CV-VALID dataset\n",
      "Normal: 17.60% of the CV-VALID dataset\n",
      "========================================\n",
      "Epoch:1/100 AVG Training Loss:0.776186 AVG Val Loss:1.069551\n",
      "Epoch:2/100 AVG Training Loss:0.464801 AVG Val Loss:0.636198\n",
      "Epoch:3/100 AVG Training Loss:0.425759 AVG Val Loss:0.847405\n",
      "Epoch:4/100 AVG Training Loss:0.331265 AVG Val Loss:0.620199\n",
      "Epoch:5/100 AVG Training Loss:0.378201 AVG Val Loss:0.740639\n",
      "Epoch:6/100 AVG Training Loss:0.344769 AVG Val Loss:0.655453\n",
      "Epoch:7/100 AVG Training Loss:0.297333 AVG Val Loss:0.516267\n",
      "Epoch:8/100 AVG Training Loss:0.231526 AVG Val Loss:1.044351\n",
      "Epoch:9/100 AVG Training Loss:0.356300 AVG Val Loss:0.849435\n",
      "Epoch:10/100 AVG Training Loss:0.324193 AVG Val Loss:0.828931\n",
      "Epoch:11/100 AVG Training Loss:0.271144 AVG Val Loss:0.645364\n",
      "Epoch:12/100 AVG Training Loss:0.276363 AVG Val Loss:0.740296\n",
      "Epoch:13/100 AVG Training Loss:0.409699 AVG Val Loss:0.523662\n",
      "Epoch:14/100 AVG Training Loss:0.269686 AVG Val Loss:0.449399\n",
      "Epoch:15/100 AVG Training Loss:0.163639 AVG Val Loss:0.399418\n",
      "Epoch:16/100 AVG Training Loss:0.127019 AVG Val Loss:0.404102\n",
      "Epoch:17/100 AVG Training Loss:0.089437 AVG Val Loss:0.425002\n",
      "Epoch:18/100 AVG Training Loss:0.098854 AVG Val Loss:0.429611\n",
      "Epoch:19/100 AVG Training Loss:0.085239 AVG Val Loss:0.470856\n",
      "Epoch:20/100 AVG Training Loss:0.067052 AVG Val Loss:0.387859\n",
      "Epoch:21/100 AVG Training Loss:0.082498 AVG Val Loss:0.404465\n",
      "Epoch:22/100 AVG Training Loss:0.072640 AVG Val Loss:0.426012\n",
      "Epoch:23/100 AVG Training Loss:0.092925 AVG Val Loss:0.506237\n",
      "Epoch:24/100 AVG Training Loss:0.090789 AVG Val Loss:0.565240\n",
      "Epoch:25/100 AVG Training Loss:0.062471 AVG Val Loss:0.467590\n",
      "Epoch:26/100 AVG Training Loss:0.035313 AVG Val Loss:0.458506\n",
      "Epoch:27/100 AVG Training Loss:0.040072 AVG Val Loss:0.497476\n",
      "Epoch:28/100 AVG Training Loss:0.057117 AVG Val Loss:0.511850\n",
      "Epoch:29/100 AVG Training Loss:0.045501 AVG Val Loss:0.434602\n",
      "Epoch:30/100 AVG Training Loss:0.068485 AVG Val Loss:0.433310\n",
      "Early stopping triggered\n",
      "========================================\n",
      "Fold 5/5\n",
      "Benign: 56.00% of the CV-TRAIN dataset\n",
      "Malignant: 27.00% of the CV-TRAIN dataset\n",
      "Normal: 17.00% of the CV-TRAIN dataset\n",
      "Benign: 56.45% of the CV-VALID dataset\n",
      "Malignant: 26.61% of the CV-VALID dataset\n",
      "Normal: 16.94% of the CV-VALID dataset\n",
      "========================================\n",
      "Epoch:1/100 AVG Training Loss:0.779879 AVG Val Loss:1.192948\n",
      "Epoch:2/100 AVG Training Loss:0.521406 AVG Val Loss:1.072449\n",
      "Epoch:3/100 AVG Training Loss:0.509526 AVG Val Loss:0.808119\n",
      "Epoch:4/100 AVG Training Loss:0.341982 AVG Val Loss:0.586883\n",
      "Epoch:5/100 AVG Training Loss:0.253995 AVG Val Loss:0.703586\n",
      "Epoch:6/100 AVG Training Loss:0.363205 AVG Val Loss:0.602655\n",
      "Epoch:7/100 AVG Training Loss:0.348618 AVG Val Loss:0.761920\n",
      "Epoch:8/100 AVG Training Loss:0.338700 AVG Val Loss:0.702131\n",
      "Epoch:9/100 AVG Training Loss:0.358167 AVG Val Loss:1.038181\n",
      "Epoch:10/100 AVG Training Loss:0.275293 AVG Val Loss:0.486931\n",
      "Epoch:11/100 AVG Training Loss:0.240036 AVG Val Loss:0.746382\n",
      "Epoch:12/100 AVG Training Loss:0.306916 AVG Val Loss:0.738588\n",
      "Epoch:13/100 AVG Training Loss:0.296745 AVG Val Loss:0.628438\n",
      "Epoch:14/100 AVG Training Loss:0.379892 AVG Val Loss:0.637674\n",
      "Epoch:15/100 AVG Training Loss:0.404073 AVG Val Loss:0.730216\n",
      "Epoch:16/100 AVG Training Loss:0.316484 AVG Val Loss:0.794551\n",
      "Epoch:17/100 AVG Training Loss:0.233076 AVG Val Loss:0.566790\n",
      "Epoch:18/100 AVG Training Loss:0.166119 AVG Val Loss:0.442724\n",
      "Epoch:19/100 AVG Training Loss:0.127028 AVG Val Loss:0.499984\n",
      "Epoch:20/100 AVG Training Loss:0.129764 AVG Val Loss:0.493868\n",
      "Epoch:21/100 AVG Training Loss:0.076618 AVG Val Loss:0.474721\n",
      "Epoch:22/100 AVG Training Loss:0.090818 AVG Val Loss:0.460454\n",
      "Epoch:23/100 AVG Training Loss:0.090702 AVG Val Loss:0.401120\n",
      "Epoch:24/100 AVG Training Loss:0.084884 AVG Val Loss:0.456462\n",
      "Epoch:25/100 AVG Training Loss:0.075583 AVG Val Loss:0.431614\n",
      "Epoch:26/100 AVG Training Loss:0.059244 AVG Val Loss:0.437424\n",
      "Epoch:27/100 AVG Training Loss:0.070168 AVG Val Loss:0.435056\n",
      "Epoch:28/100 AVG Training Loss:0.058527 AVG Val Loss:0.439288\n",
      "Epoch:29/100 AVG Training Loss:0.074975 AVG Val Loss:0.485532\n",
      "Epoch:30/100 AVG Training Loss:0.037258 AVG Val Loss:0.444292\n",
      "Epoch:31/100 AVG Training Loss:0.037802 AVG Val Loss:0.523219\n",
      "Epoch:32/100 AVG Training Loss:0.046907 AVG Val Loss:0.474833\n",
      "Epoch:33/100 AVG Training Loss:0.032289 AVG Val Loss:0.453179\n",
      "Early stopping triggered\n"
     ]
    }
   ],
   "source": [
    "model = None\n",
    "best_models_per_fold = []\n",
    "\n",
    "for fold, (train_idx, val_idx) in enumerate(skfold.split(train_dataset, labels[train_indices])):\n",
    "    # Check distribution of indices\n",
    "    check_distribution(k, fold, train_indices, train_idx, val_idx)\n",
    "\n",
    "    best_val_loss = float('inf')\n",
    "\n",
    "    train_loader, val_loader = create_train_val_loader(train_dataset, train_idx, val_idx, batch_size)\n",
    "\n",
    "    # Initiate the ResNet\n",
    "    model = models.resnet50(weights=models.ResNet50_Weights.IMAGENET1K_V1)\n",
    "\n",
    "    in_features = model.fc.in_features\n",
    "    model.fc = nn.Linear(in_features, 3)  # Updated for 3 classes\n",
    "\n",
    "    # Initiating our optimizer\n",
    "    optimizer = create_optimizer(model)\n",
    "\n",
    "    scheduler = optim.lr_scheduler.ReduceLROnPlateau(optimizer, mode='min', patience=5)\n",
    "    early_stopping_patience = 10  # Number of epochs to wait before early stopping\n",
    "    # Iterative epochs\n",
    "    for epoch in range(num_epochs):\n",
    "        # Train and Val\n",
    "        avg_train_loss = training(model, device, train_loader, criterion, optimizer)\n",
    "        avg_val_loss = testing(model, device, val_loader, criterion)\n",
    "\n",
    "        scheduler.step(avg_val_loss)\n",
    "        print(\"Epoch:{}/{} AVG Training Loss:{:.6f} AVG Val Loss:{:.6f}\".format(epoch + 1, num_epochs, avg_train_loss, avg_val_loss))\n",
    "\n",
    "        # Update best validation loss and save model weights if necessary\n",
    "        if avg_val_loss < best_val_loss:\n",
    "            best_val_loss = avg_val_loss\n",
    "            best_model_state = model.state_dict()\n",
    "            patience_counter = 0\n",
    "        else:\n",
    "            patience_counter += 1\n",
    "\n",
    "        if patience_counter >= early_stopping_patience:\n",
    "            print(\"Early stopping triggered\")\n",
    "            break\n",
    "\n",
    "        # Save results\n",
    "        fold_results['train_loss'].append(avg_train_loss)\n",
    "        fold_results['val_loss'].append(avg_val_loss)\n",
    "\n",
    "    model.load_state_dict(best_model_state)\n",
    "\n",
    "    best_models_per_fold.append((model, best_val_loss))"
   ]
  },
  {
   "cell_type": "markdown",
   "metadata": {
    "id": "ekn5d17SLGZm"
   },
   "source": [
    "# Testing the model\n",
    "Testing the model on the holdout evaluation set that we created at the beginning."
   ]
  },
  {
   "cell_type": "code",
   "execution_count": null,
   "metadata": {
    "id": "ASDdsckVLFhG"
   },
   "outputs": [],
   "source": [
    "# Create a subset sampler for the test indices\n",
    "test_subsampler = torch.utils.data.SubsetRandomSampler(test_indices)\n",
    "\n",
    "# Create a DataLoader for the test data\n",
    "test_loader = torch.utils.data.DataLoader(\n",
    "    dataset,\n",
    "    batch_size=batch_size,\n",
    "    sampler=test_subsampler,\n",
    "    shuffle=False\n",
    ")\n",
    "\n",
    "# List to store F1 scores for each fold\n",
    "f1_scores_per_fold = []\n",
    "\n",
    "# Extract models from the list of best models per fold\n",
    "extracted_models = [model for model, _ in best_models_per_fold]\n",
    "\n",
    "# Loop through extracted models for evaluation\n",
    "for model in extracted_models:\n",
    "    model.eval()\n",
    "    all_labels = []\n",
    "    all_predicted_labels = []\n",
    "\n",
    "    # Disable gradient calculation during evaluation\n",
    "    with torch.no_grad():\n",
    "        # Loop through test data batches\n",
    "        for images, labels in test_loader:\n",
    "            images, labels = images.to(device), labels.to(device)\n",
    "            outputs = model(images)\n",
    "\n",
    "            # Get predicted labels\n",
    "            _, predicted_labels = torch.max(outputs, 1)\n",
    "            all_predicted_labels.extend(predicted_labels.cpu().numpy())\n",
    "            all_labels.extend(labels.cpu().numpy())\n",
    "\n",
    "    f1_scores = f1_score(all_labels, all_predicted_labels, average='micro')\n",
    "    f1_scores_per_fold.append(f1_scores)"
   ]
  },
  {
   "cell_type": "markdown",
   "metadata": {
    "id": "5blWaQslLm9t"
   },
   "source": [
    "# Performance Measurements"
   ]
  },
  {
   "cell_type": "code",
   "execution_count": null,
   "metadata": {
    "colab": {
     "base_uri": "https://localhost:8080/"
    },
    "executionInfo": {
     "elapsed": 469,
     "status": "ok",
     "timestamp": 1719764543277,
     "user": {
      "displayName": "Ali Wehbe",
      "userId": "05622343126361511658"
     },
     "user_tz": -180
    },
    "id": "C7-3Y-eJLnyl",
    "outputId": "3a27e992-a235-4725-c8d3-450adc2a7dbd"
   },
   "outputs": [
    {
     "name": "stdout",
     "output_type": "stream",
     "text": [
      "Avg F1 Score: 0.885897435897436\n"
     ]
    }
   ],
   "source": [
    "# Calculate the average F1 scores across different folds\n",
    "avg_f1_score = np.mean(f1_scores_per_fold)\n",
    "\n",
    "print(f\"Avg F1 Score: {avg_f1_score}\")\n",
    "\n",
    "# Calculate the average training and test loss at specific epochs\n",
    "avg_train_loss = []\n",
    "avg_test_loss = []\n",
    "for epoch in range(num_epochs):\n",
    "    avg_train_loss_at_epoch = np.mean(np.array(fold_results['train_loss'])[epoch::num_epochs], axis=0)\n",
    "    avg_test_loss_at_epoch = np.mean(np.array(fold_results['val_loss'])[epoch::num_epochs], axis=0)\n",
    "    avg_train_loss.append(avg_train_loss_at_epoch)\n",
    "    avg_test_loss.append(avg_test_loss_at_epoch)"
   ]
  },
  {
   "cell_type": "code",
   "execution_count": null,
   "metadata": {
    "colab": {
     "base_uri": "https://localhost:8080/",
     "height": 472
    },
    "executionInfo": {
     "elapsed": 3,
     "status": "ok",
     "timestamp": 1719764546632,
     "user": {
      "displayName": "Ali Wehbe",
      "userId": "05622343126361511658"
     },
     "user_tz": -180
    },
    "id": "7hmfx4s2LqQ1",
    "outputId": "93599ffb-ea23-4bb9-93f3-068efebe3800"
   },
   "outputs": [
    {
     "data": {
      "image/png": "[encoded data removed]",
      "text/plain": [
       "<Figure size 640x480 with 1 Axes>"
      ]
     },
     "metadata": {},
     "output_type": "display_data"
    }
   ],
   "source": [
    "plt.figure()\n",
    "plt.plot(range(1, num_epochs + 1), avg_train_loss, label='Training Loss')\n",
    "plt.plot(range(1, num_epochs + 1), avg_test_loss, label='Validation Loss')\n",
    "plt.xlabel('Epoch')\n",
    "plt.ylabel('Loss')\n",
    "plt.title('Training and Validation Loss')\n",
    "plt.legend()\n",
    "plt.show()"
   ]
  }
 ],
 "metadata": {
  "accelerator": "GPU",
  "colab": {
   "authorship_tag": "ABX9TyNxLisI2oqXW5eLxaQI6zVm",
   "gpuType": "L4",
   "mount_file_id": "1K3IBfxrYWKRDWIvgn6rt83dVA8D50WNi",
   "provenance": [
    {
     "file_id": "11jqPnm8EY9swYVVwspfMWmY5w8M_IzWs",
     "timestamp": 1716880736619
    }
   ]
  },
  "kernelspec": {
   "display_name": "Python 3 (ipykernel)",
   "language": "python",
   "name": "python3"
  },
  "language_info": {
   "codemirror_mode": {
    "name": "ipython",
    "version": 3
   },
   "file_extension": ".py",
   "mimetype": "text/x-python",
   "name": "python",
   "nbconvert_exporter": "python",
   "pygments_lexer": "ipython3",
   "version": "3.8.18"
  }
 },
 "nbformat": 4,
 "nbformat_minor": 1
}
