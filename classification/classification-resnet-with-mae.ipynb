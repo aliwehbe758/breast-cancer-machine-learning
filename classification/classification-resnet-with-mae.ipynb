{
 "cells": [
  {
   "cell_type": "code",
   "execution_count": null,
   "metadata": {
    "id": "nL5iZ0i2YhOS"
   },
   "outputs": [],
   "source": [
    "import torch\n",
    "import torch.nn as nn\n",
    "import torch.optim as optim\n",
    "from torchvision import models, transforms\n",
    "from torch.utils.data import DataLoader, random_split\n",
    "from torchvision.datasets import ImageFolder\n",
    "import matplotlib.pyplot as plt"
   ]
  },
  {
   "cell_type": "code",
   "execution_count": null,
   "metadata": {
    "colab": {
     "base_uri": "https://localhost:8080/"
    },
    "executionInfo": {
     "elapsed": 963,
     "status": "ok",
     "timestamp": 1721634391245,
     "user": {
      "displayName": "Ali Wehbe",
      "userId": "05622343126361511658"
     },
     "user_tz": -180
    },
    "id": "v-sZQPXXZ_P_",
    "outputId": "5ec51290-bccd-45d3-9a37-e013876331fd"
   },
   "outputs": [
    {
     "name": "stdout",
     "output_type": "stream",
     "text": [
      "Enabling notebook extension jupyter-js-widgets/extension...\n",
      "Paths used for configuration of notebook: \n",
      "    \t/root/.jupyter/nbconfig/notebook.json\n",
      "Paths used for configuration of notebook: \n",
      "    \t\n",
      "      - Validating: \u001b[32mOK\u001b[0m\n",
      "Paths used for configuration of notebook: \n",
      "    \t/root/.jupyter/nbconfig/notebook.json\n"
     ]
    }
   ],
   "source": [
    "!jupyter nbextension enable --py widgetsnbextension"
   ]
  },
  {
   "cell_type": "code",
   "execution_count": null,
   "metadata": {
    "colab": {
     "base_uri": "https://localhost:8080/"
    },
    "executionInfo": {
     "elapsed": 24215,
     "status": "ok",
     "timestamp": 1721634161279,
     "user": {
      "displayName": "Ali Wehbe",
      "userId": "05622343126361511658"
     },
     "user_tz": -180
    },
    "id": "UiW-W0VYYiNz",
    "outputId": "407b885c-1b68-4cc1-b696-593573d3d034"
   },
   "outputs": [
    {
     "name": "stdout",
     "output_type": "stream",
     "text": [
      "Mounted at /content/drive\n"
     ]
    }
   ],
   "source": [
    "device = torch.device(\"cuda\" if torch.cuda.is_available() else \"cpu\")"
   ]
  },
  {
   "cell_type": "code",
   "execution_count": null,
   "metadata": {
    "colab": {
     "base_uri": "https://localhost:8080/"
    },
    "executionInfo": {
     "elapsed": 148906,
     "status": "ok",
     "timestamp": 1721634310183,
     "user": {
      "displayName": "Ali Wehbe",
      "userId": "05622343126361511658"
     },
     "user_tz": -180
    },
    "id": "IWNkHk2kYiRS",
    "outputId": "83a17329-2c13-41cd-96ca-5890c6df79e2"
   },
   "outputs": [
    {
     "name": "stdout",
     "output_type": "stream",
     "text": [
      "Mean: tensor([0.3282, 0.3282, 0.3281])\n",
      "Std Dev: tensor([0.2190, 0.2190, 0.2190])\n"
     ]
    }
   ],
   "source": [
    "# Define the transformation that only converts images to tensor\n",
    "transform = transforms.Compose([\n",
    "    transforms.Resize((224, 224)),  # Resize all images to 224x224\n",
    "    transforms.ToTensor()\n",
    "])\n",
    "\n",
    "\n",
    "dataset = ImageFolder(root='../Dataset_BUSI_with_GT/', transform=transform)\n",
    "loader = DataLoader(dataset, batch_size=50, num_workers=4, shuffle=False)\n",
    "\n",
    "# Function to calculate mean and std\n",
    "def get_mean_and_std(loader):\n",
    "    channels_sum, channels_squared_sum, num_batches = 0, 0, 0\n",
    "\n",
    "    for data, _ in loader:\n",
    "        channels_sum += torch.mean(data, dim=[0, 2, 3])\n",
    "        channels_squared_sum += torch.mean(data**2, dim=[0, 2, 3])\n",
    "        num_batches += 1\n",
    "\n",
    "    mean = channels_sum / num_batches\n",
    "    std = (channels_squared_sum / num_batches - mean**2)**0.5\n",
    "\n",
    "    return mean, std\n",
    "\n",
    "mean, std = get_mean_and_std(loader)\n",
    "print(f'Mean: {mean}')\n",
    "print(f'Std Dev: {std}')"
   ]
  },
  {
   "cell_type": "code",
   "execution_count": null,
   "metadata": {
    "id": "qEuDeGZzYiTT"
   },
   "outputs": [],
   "source": [
    "# Define transformations for the dataset\n",
    "transform = transforms.Compose([\n",
    "    transforms.Resize((224, 224)),  # Resize all images to 224x224\n",
    "    transforms.ToTensor(),  # Convert images to PyTorch tensors\n",
    "    transforms.Normalize(mean, std)  # Normalize images\n",
    "])\n",
    "\n",
    "# Load the dataset with the new transformation\n",
    "dataset = ImageFolder(root='../Dataset_BUSI_with_GT/', transform=transform)\n",
    "\n",
    "\n",
    "# Split the dataset into training and validation sets\n",
    "train_size = int(0.8 * len(dataset))\n",
    "val_size = len(dataset) - train_size\n",
    "train_dataset, val_dataset = random_split(dataset, [train_size, val_size])\n",
    "\n",
    "# Create data loaders\n",
    "train_loader = DataLoader(train_dataset, batch_size=32, shuffle=True)\n",
    "val_loader = DataLoader(val_dataset, batch_size=32, shuffle=False)"
   ]
  },
  {
   "cell_type": "code",
   "execution_count": null,
   "metadata": {
    "id": "XP8JLn6eYiVa"
   },
   "outputs": [],
   "source": [
    "class MaskedAutoEncoder(nn.Module):\n",
    "    def __init__(self):\n",
    "        super(MaskedAutoEncoder, self).__init__()\n",
    "\n",
    "        # Encoder\n",
    "        # Load pre-trained ResNet50 and remove the fully connected layer\n",
    "        self.encoder = models.resnet50(weights=models.ResNet50_Weights.IMAGENET1K_V1)\n",
    "        self.encoder = nn.Sequential(*list(self.encoder.children())[:-2])  # Remove the fully connected layer and avgpool\n",
    "\n",
    "\n",
    "        # Decoder\n",
    "        self.decoder = nn.Sequential(\n",
    "            nn.ConvTranspose2d(2048, 1024, kernel_size=3, stride=2, padding=1, output_padding=1),  # (1024, 8, 8)\n",
    "            nn.ReLU(True),\n",
    "            nn.ConvTranspose2d(1024, 512, kernel_size=3, stride=2, padding=1, output_padding=1),  # (512, 16, 16)\n",
    "            nn.ReLU(True),\n",
    "            nn.ConvTranspose2d(512, 256, kernel_size=3, stride=2, padding=1, output_padding=1),  # (256, 32, 32)\n",
    "            nn.ReLU(True),\n",
    "            nn.ConvTranspose2d(256, 128, kernel_size=3, stride=2, padding=1, output_padding=1),  # (128, 64, 64)\n",
    "            nn.ReLU(True),\n",
    "            nn.ConvTranspose2d(128, 64, kernel_size=3, stride=2, padding=1, output_padding=1),  # (64, 128, 128)\n",
    "            nn.ReLU(True),\n",
    "            nn.ConvTranspose2d(64, 3, kernel_size=3, stride=1, padding=1),  # (3, 128, 128)\n",
    "            nn.Tanh()\n",
    "        )\n",
    "\n",
    "    def forward(self, x, mask_ratio=0.75):\n",
    "        # Apply grid masking\n",
    "        batch_size, _, H, W = x.shape\n",
    "        patch_size = 16  # Define the patch size\n",
    "        num_patches = (H // patch_size) * (W // patch_size)\n",
    "        num_masked_patches = int(mask_ratio * num_patches)\n",
    "\n",
    "        mask = torch.ones(batch_size, H // patch_size, W // patch_size, device=x.device)\n",
    "        for i in range(batch_size):\n",
    "            mask_indices = torch.randperm(num_patches)[:num_masked_patches]\n",
    "            mask[i].view(-1)[mask_indices] = 0\n",
    "\n",
    "        mask = mask.repeat_interleave(patch_size, dim=1).repeat_interleave(patch_size, dim=2)\n",
    "        mask = mask.unsqueeze(1)  # Add channel dimension\n",
    "\n",
    "        x_masked = x * mask\n",
    "\n",
    "        # Encode\n",
    "        encoded = self.encoder(x_masked)\n",
    "\n",
    "        # Decode\n",
    "        decoded = self.decoder(encoded)\n",
    "\n",
    "        return decoded, mask"
   ]
  },
  {
   "cell_type": "code",
   "execution_count": null,
   "metadata": {
    "id": "qyZyY994YqRJ"
   },
   "outputs": [],
   "source": [
    "class ResNetClassifier(nn.Module):\n",
    "    def __init__(self, num_classes=3):  # Assuming 3 classes, change as needed\n",
    "        super(ResNetClassifier, self).__init__()\n",
    "        # Load pre-trained ResNet50\n",
    "        self.encoder = models.resnet50(weights=None)  # Load without pretrained weights initially\n",
    "        # Replace the fully connected layer\n",
    "        num_ftrs = self.encoder.fc.in_features\n",
    "        self.encoder.fc = nn.Linear(num_ftrs, num_classes)\n",
    "\n",
    "    def forward(self, x):\n",
    "        return self.encoder(x)"
   ]
  },
  {
   "cell_type": "code",
   "execution_count": null,
   "metadata": {
    "colab": {
     "base_uri": "https://localhost:8080/"
    },
    "executionInfo": {
     "elapsed": 13451,
     "status": "ok",
     "timestamp": 1721634323632,
     "user": {
      "displayName": "Ali Wehbe",
      "userId": "05622343126361511658"
     },
     "user_tz": -180
    },
    "id": "wfd8tyUkYqUo",
    "outputId": "64f33655-4c51-461e-a39f-825185d9c30c"
   },
   "outputs": [
    {
     "name": "stderr",
     "output_type": "stream",
     "text": [
      "Downloading: \"https://download.pytorch.org/models/resnet50-0676ba61.pth\" to /root/.cache/torch/hub/checkpoints/resnet50-0676ba61.pth\n",
      "100%|██████████| 97.8M/97.8M [00:00<00:00, 181MB/s]\n"
     ]
    }
   ],
   "source": [
    "# Instantiate the model\n",
    "classifier = ResNetClassifier(num_classes=3)  # Adjust the number of classes as needed\n",
    "classifier = classifier.to(device)\n",
    "\n",
    "# Load pre-trained encoder weights\n",
    "pretrained_model_path = '../masked-auto-encoder/models/mae-grid-masking-resnet50-40.pth'\n",
    "model = MaskedAutoEncoder()\n",
    "model.load_state_dict(torch.load(pretrained_model_path, map_location=device))\n",
    "\n",
    "# Load encoder state dict selectively\n",
    "encoder_state_dict = model.encoder.state_dict()\n",
    "model_state_dict = classifier.encoder.state_dict()\n",
    "\n",
    "# Filter out unnecessary keys\n",
    "filtered_encoder_state_dict = {k: v for k, v in encoder_state_dict.items() if k in model_state_dict}\n",
    "\n",
    "# Load the state dictionary\n",
    "model_state_dict.update(filtered_encoder_state_dict)\n",
    "classifier.encoder.load_state_dict(model_state_dict)\n",
    "\n",
    "# Optionally, freeze the encoder layers during initial training\n",
    "for param in classifier.encoder.parameters():\n",
    "    param.requires_grad = True"
   ]
  },
  {
   "cell_type": "code",
   "execution_count": null,
   "metadata": {
    "id": "4Ria-6r5U6qL"
   },
   "outputs": [],
   "source": [
    "# Define the loss function and optimizer\n",
    "criterion = nn.CrossEntropyLoss()\n",
    "optimizer = optim.Adam(filter(lambda p: p.requires_grad, classifier.parameters()), lr=1e-3)\n",
    "\n",
    "# Unfreeze the encoder layers for fine-tuning after some initial training epochs\n",
    "unfreeze_epoch = 5\n",
    "\n",
    "# Training the classifier\n",
    "num_epochs = 50\n",
    "train_losses = []\n",
    "val_losses = []\n",
    "train_accuracies = []\n",
    "val_accuracies = []"
   ]
  },
  {
   "cell_type": "code",
   "execution_count": null,
   "metadata": {
    "colab": {
     "base_uri": "https://localhost:8080/"
    },
    "executionInfo": {
     "elapsed": 640828,
     "status": "ok",
     "timestamp": 1721635036612,
     "user": {
      "displayName": "Ali Wehbe",
      "userId": "05622343126361511658"
     },
     "user_tz": -180
    },
    "id": "k8l4KC8bWlWM",
    "outputId": "aac4905d-d31c-4008-e0e0-db53d2c2c366"
   },
   "outputs": [
    {
     "name": "stdout",
     "output_type": "stream",
     "text": [
      "Epoch [1/50], Train Loss: 0.8721, Val Loss: 1.3457, Train Accuracy: 61.70%, Val Accuracy: 41.67%\n",
      "Epoch [2/50], Train Loss: 0.7385, Val Loss: 0.9210, Train Accuracy: 68.27%, Val Accuracy: 57.69%\n",
      "Epoch [3/50], Train Loss: 0.6537, Val Loss: 1.6490, Train Accuracy: 72.92%, Val Accuracy: 57.69%\n",
      "Epoch [4/50], Train Loss: 0.7010, Val Loss: 1.1330, Train Accuracy: 70.83%, Val Accuracy: 65.38%\n",
      "Epoch [5/50], Train Loss: 0.6084, Val Loss: 1.1406, Train Accuracy: 75.32%, Val Accuracy: 63.46%\n",
      "Epoch [6/50], Train Loss: 0.4823, Val Loss: 0.8888, Train Accuracy: 79.97%, Val Accuracy: 71.15%\n",
      "Epoch [7/50], Train Loss: 0.4418, Val Loss: 1.7099, Train Accuracy: 80.13%, Val Accuracy: 66.67%\n",
      "Epoch [8/50], Train Loss: 0.5601, Val Loss: 1.3688, Train Accuracy: 78.37%, Val Accuracy: 65.38%\n",
      "Epoch [9/50], Train Loss: 0.4740, Val Loss: 1.9129, Train Accuracy: 81.73%, Val Accuracy: 69.87%\n",
      "Epoch [10/50], Train Loss: 0.3304, Val Loss: 0.8538, Train Accuracy: 87.02%, Val Accuracy: 68.59%\n",
      "Epoch [11/50], Train Loss: 0.2465, Val Loss: 0.7442, Train Accuracy: 91.35%, Val Accuracy: 73.72%\n",
      "Epoch [12/50], Train Loss: 0.2467, Val Loss: 1.9214, Train Accuracy: 89.58%, Val Accuracy: 69.23%\n",
      "Epoch [13/50], Train Loss: 0.2360, Val Loss: 1.1798, Train Accuracy: 91.67%, Val Accuracy: 74.36%\n",
      "Epoch [14/50], Train Loss: 0.2184, Val Loss: 1.2338, Train Accuracy: 92.31%, Val Accuracy: 67.95%\n",
      "Epoch [15/50], Train Loss: 0.1614, Val Loss: 0.8963, Train Accuracy: 94.55%, Val Accuracy: 73.72%\n",
      "Epoch [16/50], Train Loss: 0.1274, Val Loss: 1.1139, Train Accuracy: 95.51%, Val Accuracy: 71.79%\n",
      "Epoch [17/50], Train Loss: 0.1571, Val Loss: 1.4893, Train Accuracy: 93.75%, Val Accuracy: 70.51%\n",
      "Epoch [18/50], Train Loss: 0.2121, Val Loss: 1.3167, Train Accuracy: 92.31%, Val Accuracy: 72.44%\n",
      "Epoch [19/50], Train Loss: 0.1410, Val Loss: 0.6228, Train Accuracy: 96.15%, Val Accuracy: 78.21%\n",
      "Epoch [20/50], Train Loss: 0.1003, Val Loss: 1.0635, Train Accuracy: 96.96%, Val Accuracy: 73.08%\n",
      "Epoch [21/50], Train Loss: 0.1616, Val Loss: 1.2787, Train Accuracy: 94.07%, Val Accuracy: 72.44%\n",
      "Epoch [22/50], Train Loss: 0.1338, Val Loss: 0.8082, Train Accuracy: 94.71%, Val Accuracy: 77.56%\n",
      "Epoch [23/50], Train Loss: 0.0846, Val Loss: 0.9563, Train Accuracy: 96.47%, Val Accuracy: 78.21%\n",
      "Epoch [24/50], Train Loss: 0.1044, Val Loss: 1.3463, Train Accuracy: 97.44%, Val Accuracy: 73.72%\n",
      "Epoch [25/50], Train Loss: 0.0749, Val Loss: 1.3950, Train Accuracy: 97.44%, Val Accuracy: 70.51%\n",
      "Epoch [26/50], Train Loss: 0.1572, Val Loss: 2.5213, Train Accuracy: 95.67%, Val Accuracy: 66.67%\n",
      "Epoch [27/50], Train Loss: 0.1380, Val Loss: 1.9973, Train Accuracy: 94.71%, Val Accuracy: 69.23%\n",
      "Epoch [28/50], Train Loss: 0.1123, Val Loss: 0.9441, Train Accuracy: 96.63%, Val Accuracy: 77.56%\n",
      "Epoch [29/50], Train Loss: 0.0403, Val Loss: 0.8762, Train Accuracy: 99.04%, Val Accuracy: 82.69%\n",
      "Epoch [30/50], Train Loss: 0.0147, Val Loss: 0.9551, Train Accuracy: 99.36%, Val Accuracy: 79.49%\n",
      "Epoch [31/50], Train Loss: 0.0167, Val Loss: 0.9720, Train Accuracy: 99.84%, Val Accuracy: 82.05%\n",
      "Epoch [32/50], Train Loss: 0.0116, Val Loss: 0.9777, Train Accuracy: 99.84%, Val Accuracy: 80.77%\n",
      "Epoch [33/50], Train Loss: 0.0048, Val Loss: 0.9564, Train Accuracy: 99.68%, Val Accuracy: 79.49%\n",
      "Epoch [34/50], Train Loss: 0.0077, Val Loss: 1.0415, Train Accuracy: 99.84%, Val Accuracy: 78.21%\n",
      "Epoch [35/50], Train Loss: 0.0092, Val Loss: 0.9958, Train Accuracy: 99.68%, Val Accuracy: 80.13%\n",
      "Epoch [36/50], Train Loss: 0.0045, Val Loss: 0.9949, Train Accuracy: 99.84%, Val Accuracy: 80.77%\n",
      "Epoch [37/50], Train Loss: 0.0043, Val Loss: 0.9872, Train Accuracy: 99.68%, Val Accuracy: 79.49%\n",
      "Epoch [38/50], Train Loss: 0.0093, Val Loss: 1.0437, Train Accuracy: 99.68%, Val Accuracy: 81.41%\n",
      "Epoch [39/50], Train Loss: 0.0316, Val Loss: 3.3027, Train Accuracy: 98.88%, Val Accuracy: 72.44%\n",
      "Epoch [40/50], Train Loss: 0.0797, Val Loss: 1.2027, Train Accuracy: 97.12%, Val Accuracy: 75.64%\n",
      "Epoch [41/50], Train Loss: 0.1016, Val Loss: 1.1821, Train Accuracy: 95.99%, Val Accuracy: 75.00%\n",
      "Epoch [42/50], Train Loss: 0.1613, Val Loss: 2.8246, Train Accuracy: 94.55%, Val Accuracy: 66.03%\n",
      "Epoch [43/50], Train Loss: 0.1374, Val Loss: 1.0230, Train Accuracy: 94.55%, Val Accuracy: 77.56%\n",
      "Epoch [44/50], Train Loss: 0.1038, Val Loss: 1.7973, Train Accuracy: 96.96%, Val Accuracy: 76.28%\n",
      "Epoch [45/50], Train Loss: 0.1211, Val Loss: 1.3579, Train Accuracy: 95.51%, Val Accuracy: 64.10%\n",
      "Epoch [46/50], Train Loss: 0.0451, Val Loss: 1.2087, Train Accuracy: 98.88%, Val Accuracy: 79.49%\n",
      "Epoch [47/50], Train Loss: 0.0573, Val Loss: 1.1442, Train Accuracy: 98.24%, Val Accuracy: 75.00%\n",
      "Epoch [48/50], Train Loss: 0.0561, Val Loss: 1.1405, Train Accuracy: 98.56%, Val Accuracy: 78.21%\n",
      "Epoch [49/50], Train Loss: 0.0699, Val Loss: 1.7160, Train Accuracy: 97.12%, Val Accuracy: 73.08%\n",
      "Epoch [50/50], Train Loss: 0.0934, Val Loss: 1.1095, Train Accuracy: 96.47%, Val Accuracy: 76.28%\n"
     ]
    }
   ],
   "source": [
    "for epoch in range(num_epochs):\n",
    "    if epoch == unfreeze_epoch:\n",
    "        for param in classifier.encoder.parameters():\n",
    "            param.requires_grad = True\n",
    "\n",
    "    classifier.train()\n",
    "    running_loss = 0.0\n",
    "    correct_train = 0\n",
    "    total_train = 0\n",
    "\n",
    "    for images, labels in train_loader:\n",
    "        images, labels = images.to(device), labels.to(device)\n",
    "        optimizer.zero_grad()\n",
    "        outputs = classifier(images)\n",
    "        loss = criterion(outputs, labels)\n",
    "        loss.backward()\n",
    "        optimizer.step()\n",
    "        running_loss += loss.item()\n",
    "\n",
    "        # Calculate training accuracy\n",
    "        _, predicted = torch.max(outputs.data, 1)\n",
    "        total_train += labels.size(0)\n",
    "        correct_train += (predicted == labels).sum().item()\n",
    "\n",
    "    train_loss = running_loss / len(train_loader)\n",
    "    train_losses.append(train_loss)\n",
    "    train_accuracy = 100 * correct_train / total_train\n",
    "    train_accuracies.append(train_accuracy)\n",
    "\n",
    "    classifier.eval()\n",
    "    running_loss = 0.0\n",
    "    correct_val = 0\n",
    "    total_val = 0\n",
    "\n",
    "    with torch.no_grad():\n",
    "        for images, labels in val_loader:\n",
    "            images, labels = images.to(device), labels.to(device)\n",
    "            outputs = classifier(images)\n",
    "            loss = criterion(outputs, labels)\n",
    "            running_loss += loss.item()\n",
    "\n",
    "            # Calculate validation accuracy\n",
    "            _, predicted = torch.max(outputs.data, 1)\n",
    "            total_val += labels.size(0)\n",
    "            correct_val += (predicted == labels).sum().item()\n",
    "\n",
    "    val_loss = running_loss / len(val_loader)\n",
    "    val_losses.append(val_loss)\n",
    "    val_accuracy = 100 * correct_val / total_val\n",
    "    val_accuracies.append(val_accuracy)\n",
    "\n",
    "    print(f\"Epoch [{epoch+1}/{num_epochs}], Train Loss: {train_loss:.4f}, Val Loss: {val_loss:.4f}, Train Accuracy: {train_accuracy:.2f}%, Val Accuracy: {val_accuracy:.2f}%\")"
   ]
  },
  {
   "cell_type": "code",
   "execution_count": null,
   "metadata": {
    "colab": {
     "base_uri": "https://localhost:8080/",
     "height": 465
    },
    "executionInfo": {
     "elapsed": 1131,
     "status": "ok",
     "timestamp": 1721635046104,
     "user": {
      "displayName": "Ali Wehbe",
      "userId": "05622343126361511658"
     },
     "user_tz": -180
    },
    "id": "DZMHyYRrYgDD",
    "outputId": "332bd812-07c1-4de2-d9fb-4e277f99ac7a"
   },
   "outputs": [
    {
     "data": {
      "image/png": "[encoded data removed]",
      "text/plain": [
       "<Figure size 1000x500 with 2 Axes>"
      ]
     },
     "metadata": {},
     "output_type": "display_data"
    }
   ],
   "source": [
    "plt.figure(figsize=(10, 5))\n",
    "plt.subplot(1, 2, 1)\n",
    "plt.plot(train_losses, label='Train Loss')\n",
    "plt.plot(val_losses, label='Validation Loss')\n",
    "plt.xlabel('Epochs')\n",
    "plt.ylabel('Loss')\n",
    "plt.legend()\n",
    "\n",
    "plt.subplot(1, 2, 2)\n",
    "plt.plot(train_accuracies, label='Train Accuracy')\n",
    "plt.plot(val_accuracies, label='Validation Accuracy')\n",
    "plt.xlabel('Epochs')\n",
    "plt.ylabel('Accuracy (%)')\n",
    "plt.legend()\n",
    "\n",
    "plt.show()"
   ]
  },
  {
   "cell_type": "code",
   "execution_count": null,
   "metadata": {
    "colab": {
     "base_uri": "https://localhost:8080/"
    },
    "executionInfo": {
     "elapsed": 15510,
     "status": "ok",
     "timestamp": 1721635070573,
     "user": {
      "displayName": "Ali Wehbe",
      "userId": "05622343126361511658"
     },
     "user_tz": -180
    },
    "id": "KOcbDJC_YVbe",
    "outputId": "7423d7c1-add1-4db9-e8b5-7897736ab31e"
   },
   "outputs": [
    {
     "name": "stdout",
     "output_type": "stream",
     "text": [
      "Classifier model saved to /content/drive/MyDrive/LU_ML MS thesis/Project/resnet_classifier_busi.pth\n"
     ]
    }
   ],
   "source": [
    "# Save the trained classifier model\n",
    "torch.save(classifier.state_dict(), './models/resnet_classifier_busi.pth')\n",
    "print('Classifier model saved to ./models/resnet_classifier_busi.pth')"
   ]
  }
 ],
 "metadata": {
  "accelerator": "GPU",
  "colab": {
   "authorship_tag": "ABX9TyMqmlkK30aDW55ZcwC8Taey",
   "gpuType": "L4",
   "mount_file_id": "1K3IBfxrYWKRDWIvgn6rt83dVA8D50WNi",
   "provenance": [
    {
     "file_id": "11jqPnm8EY9swYVVwspfMWmY5w8M_IzWs",
     "timestamp": 1716880736619
    }
   ]
  },
  "kernelspec": {
   "display_name": "Python 3 (ipykernel)",
   "language": "python",
   "name": "python3"
  },
  "language_info": {
   "codemirror_mode": {
    "name": "ipython",
    "version": 3
   },
   "file_extension": ".py",
   "mimetype": "text/x-python",
   "name": "python",
   "nbconvert_exporter": "python",
   "pygments_lexer": "ipython3",
   "version": "3.8.18"
  }
 },
 "nbformat": 4,
 "nbformat_minor": 1
}
